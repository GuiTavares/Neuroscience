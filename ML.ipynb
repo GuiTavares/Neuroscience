{
 "cells": [
  {
   "cell_type": "code",
   "execution_count": 1,
   "id": "bO6WROcw5hB9",
   "metadata": {
    "colab": {
     "base_uri": "https://localhost:8080/"
    },
    "executionInfo": {
     "elapsed": 20879,
     "status": "ok",
     "timestamp": 1723203463762,
     "user": {
      "displayName": "Guilherme Tavares",
      "userId": "02460284227855401496"
     },
     "user_tz": 180
    },
    "id": "bO6WROcw5hB9",
    "outputId": "499f72c4-f423-4a4b-c619-871edae155ba"
   },
   "outputs": [
    {
     "name": "stdout",
     "output_type": "stream",
     "text": [
      "Mounted at /content/drive\n"
     ]
    }
   ],
   "source": [
    "from google.colab import drive\n",
    "drive.mount('/content/drive')"
   ]
  },
  {
   "cell_type": "code",
   "execution_count": 2,
   "id": "lCq29EI_BE6n",
   "metadata": {
    "executionInfo": {
     "elapsed": 3012,
     "status": "ok",
     "timestamp": 1723203470854,
     "user": {
      "displayName": "Guilherme Tavares",
      "userId": "02460284227855401496"
     },
     "user_tz": 180
    },
    "id": "lCq29EI_BE6n"
   },
   "outputs": [],
   "source": [
    "import pandas as pd\n",
    "import numpy as np\n",
    "from sklearn.model_selection import train_test_split\n",
    "from sklearn.ensemble import RandomForestClassifier\n",
    "from sklearn.linear_model import LogisticRegression\n",
    "from sklearn.model_selection import cross_val_score\n",
    "from sklearn.model_selection import StratifiedKFold\n",
    "from sklearn.feature_selection import SelectFromModel\n",
    "from sklearn.ensemble import RandomForestClassifier\n",
    "from sklearn.model_selection import cross_val_predict\n",
    "from sklearn.metrics import confusion_matrix, classification_report\n",
    "from sklearn.preprocessing import StandardScaler\n",
    "from sklearn.model_selection import KFold, cross_val_score, cross_val_predict\n",
    "\n"
   ]
  },
  {
   "cell_type": "code",
   "execution_count": 3,
   "id": "WAOigi1lauQ5",
   "metadata": {
    "executionInfo": {
     "elapsed": 4,
     "status": "ok",
     "timestamp": 1723203470854,
     "user": {
      "displayName": "Guilherme Tavares",
      "userId": "02460284227855401496"
     },
     "user_tz": 180
    },
    "id": "WAOigi1lauQ5"
   },
   "outputs": [],
   "source": [
    "def set_column(list_columns):\n",
    "  for index, value in enumerate(x):\n",
    "    if 'average_value_' in value:\n",
    "        x[index] = value.replace('average_value_', '')\n",
    "    elif  'Gamma_' in value:\n",
    "      x[index] = value.replace('Gamma_', '')\n",
    "    elif  'Theta_' in value:\n",
    "      x[index] = value.replace('Theta_', '')\n",
    "    elif  'Low_Beta_' in value:\n",
    "      x[index] = value.replace('Low_Beta_', '')\n",
    "    elif  'Mid_Beta_' in value:\n",
    "      x[index] = value.replace('Mid_Beta_', '')\n",
    "    elif  '25_perc_value_' in value:\n",
    "      x[index] = value.replace('25_perc_value_', '')\n",
    "    elif  '75_perc_' in value:\n",
    "      x[index] = value.replace('75_perc_', '')\n",
    "    elif  'High_Beta_' in value:\n",
    "      x[index] = value.replace('High_Beta_', '')\n",
    "    elif  'std_value_' in value:\n",
    "      x[index] = value.replace('std_value_', '')\n",
    "    elif  'Low_Alpha' in value:\n",
    "      x[index] = value.replace('Low_Alpha', '')\n",
    "    elif  'High_Alpha_' in value:\n",
    "      x[index] = value.replace('High_Alpha_', '')\n",
    "    elif  'median_Value_' in value:\n",
    "      x[index] = value.replace('median_Value_', '')\n",
    "    elif  'average_value_' in value:\n",
    "      x[index] = value.replace('average_value_', '')\n",
    "  y=set(x)\n",
    "\n",
    "  return len(y), y"
   ]
  },
  {
   "cell_type": "code",
   "execution_count": 4,
   "id": "02244a40-ed99-462c-b81c-3d251dd5d08f",
   "metadata": {
    "executionInfo": {
     "elapsed": 7925,
     "status": "ok",
     "timestamp": 1723203486856,
     "user": {
      "displayName": "Guilherme Tavares",
      "userId": "02460284227855401496"
     },
     "user_tz": 180
    },
    "id": "02244a40-ed99-462c-b81c-3d251dd5d08f"
   },
   "outputs": [
    {
     "ename": "FileNotFoundError",
     "evalue": "[Errno 2] No such file or directory: '/content/drive/My Drive/NEUKO/outputs/pre_ML/df_final3_top_10.csv'",
     "output_type": "error",
     "traceback": [
      "\u001b[0;31m---------------------------------------------------------------------------\u001b[0m",
      "\u001b[0;31mFileNotFoundError\u001b[0m                         Traceback (most recent call last)",
      "Cell \u001b[0;32mIn[4], line 1\u001b[0m\n\u001b[0;32m----> 1\u001b[0m df_final_10 \u001b[38;5;241m=\u001b[39m pd\u001b[38;5;241m.\u001b[39mread_csv(\u001b[38;5;124m'\u001b[39m\u001b[38;5;124m/content/drive/My Drive/NEUKO/outputs/pre_ML/df_final3_top_10.csv\u001b[39m\u001b[38;5;124m'\u001b[39m)\n\u001b[1;32m      2\u001b[0m df_final_20 \u001b[38;5;241m=\u001b[39m pd\u001b[38;5;241m.\u001b[39mread_csv(\u001b[38;5;124m'\u001b[39m\u001b[38;5;124m/content/drive/My Drive/NEUKO/outputs/pre_ML/df_final3_top_20.csv\u001b[39m\u001b[38;5;124m'\u001b[39m)\n\u001b[1;32m      3\u001b[0m df_final_30 \u001b[38;5;241m=\u001b[39m pd\u001b[38;5;241m.\u001b[39mread_csv(\u001b[38;5;124m'\u001b[39m\u001b[38;5;124m/content/drive/My Drive/NEUKO/outputs/pre_ML/df_final3_top_30.csv\u001b[39m\u001b[38;5;124m'\u001b[39m)\n",
      "File \u001b[0;32m~/anaconda3/lib/python3.11/site-packages/pandas/io/parsers/readers.py:1026\u001b[0m, in \u001b[0;36mread_csv\u001b[0;34m(filepath_or_buffer, sep, delimiter, header, names, index_col, usecols, dtype, engine, converters, true_values, false_values, skipinitialspace, skiprows, skipfooter, nrows, na_values, keep_default_na, na_filter, verbose, skip_blank_lines, parse_dates, infer_datetime_format, keep_date_col, date_parser, date_format, dayfirst, cache_dates, iterator, chunksize, compression, thousands, decimal, lineterminator, quotechar, quoting, doublequote, escapechar, comment, encoding, encoding_errors, dialect, on_bad_lines, delim_whitespace, low_memory, memory_map, float_precision, storage_options, dtype_backend)\u001b[0m\n\u001b[1;32m   1013\u001b[0m kwds_defaults \u001b[38;5;241m=\u001b[39m _refine_defaults_read(\n\u001b[1;32m   1014\u001b[0m     dialect,\n\u001b[1;32m   1015\u001b[0m     delimiter,\n\u001b[0;32m   (...)\u001b[0m\n\u001b[1;32m   1022\u001b[0m     dtype_backend\u001b[38;5;241m=\u001b[39mdtype_backend,\n\u001b[1;32m   1023\u001b[0m )\n\u001b[1;32m   1024\u001b[0m kwds\u001b[38;5;241m.\u001b[39mupdate(kwds_defaults)\n\u001b[0;32m-> 1026\u001b[0m \u001b[38;5;28;01mreturn\u001b[39;00m _read(filepath_or_buffer, kwds)\n",
      "File \u001b[0;32m~/anaconda3/lib/python3.11/site-packages/pandas/io/parsers/readers.py:620\u001b[0m, in \u001b[0;36m_read\u001b[0;34m(filepath_or_buffer, kwds)\u001b[0m\n\u001b[1;32m    617\u001b[0m _validate_names(kwds\u001b[38;5;241m.\u001b[39mget(\u001b[38;5;124m\"\u001b[39m\u001b[38;5;124mnames\u001b[39m\u001b[38;5;124m\"\u001b[39m, \u001b[38;5;28;01mNone\u001b[39;00m))\n\u001b[1;32m    619\u001b[0m \u001b[38;5;66;03m# Create the parser.\u001b[39;00m\n\u001b[0;32m--> 620\u001b[0m parser \u001b[38;5;241m=\u001b[39m TextFileReader(filepath_or_buffer, \u001b[38;5;241m*\u001b[39m\u001b[38;5;241m*\u001b[39mkwds)\n\u001b[1;32m    622\u001b[0m \u001b[38;5;28;01mif\u001b[39;00m chunksize \u001b[38;5;129;01mor\u001b[39;00m iterator:\n\u001b[1;32m    623\u001b[0m     \u001b[38;5;28;01mreturn\u001b[39;00m parser\n",
      "File \u001b[0;32m~/anaconda3/lib/python3.11/site-packages/pandas/io/parsers/readers.py:1620\u001b[0m, in \u001b[0;36mTextFileReader.__init__\u001b[0;34m(self, f, engine, **kwds)\u001b[0m\n\u001b[1;32m   1617\u001b[0m     \u001b[38;5;28mself\u001b[39m\u001b[38;5;241m.\u001b[39moptions[\u001b[38;5;124m\"\u001b[39m\u001b[38;5;124mhas_index_names\u001b[39m\u001b[38;5;124m\"\u001b[39m] \u001b[38;5;241m=\u001b[39m kwds[\u001b[38;5;124m\"\u001b[39m\u001b[38;5;124mhas_index_names\u001b[39m\u001b[38;5;124m\"\u001b[39m]\n\u001b[1;32m   1619\u001b[0m \u001b[38;5;28mself\u001b[39m\u001b[38;5;241m.\u001b[39mhandles: IOHandles \u001b[38;5;241m|\u001b[39m \u001b[38;5;28;01mNone\u001b[39;00m \u001b[38;5;241m=\u001b[39m \u001b[38;5;28;01mNone\u001b[39;00m\n\u001b[0;32m-> 1620\u001b[0m \u001b[38;5;28mself\u001b[39m\u001b[38;5;241m.\u001b[39m_engine \u001b[38;5;241m=\u001b[39m \u001b[38;5;28mself\u001b[39m\u001b[38;5;241m.\u001b[39m_make_engine(f, \u001b[38;5;28mself\u001b[39m\u001b[38;5;241m.\u001b[39mengine)\n",
      "File \u001b[0;32m~/anaconda3/lib/python3.11/site-packages/pandas/io/parsers/readers.py:1880\u001b[0m, in \u001b[0;36mTextFileReader._make_engine\u001b[0;34m(self, f, engine)\u001b[0m\n\u001b[1;32m   1878\u001b[0m     \u001b[38;5;28;01mif\u001b[39;00m \u001b[38;5;124m\"\u001b[39m\u001b[38;5;124mb\u001b[39m\u001b[38;5;124m\"\u001b[39m \u001b[38;5;129;01mnot\u001b[39;00m \u001b[38;5;129;01min\u001b[39;00m mode:\n\u001b[1;32m   1879\u001b[0m         mode \u001b[38;5;241m+\u001b[39m\u001b[38;5;241m=\u001b[39m \u001b[38;5;124m\"\u001b[39m\u001b[38;5;124mb\u001b[39m\u001b[38;5;124m\"\u001b[39m\n\u001b[0;32m-> 1880\u001b[0m \u001b[38;5;28mself\u001b[39m\u001b[38;5;241m.\u001b[39mhandles \u001b[38;5;241m=\u001b[39m get_handle(\n\u001b[1;32m   1881\u001b[0m     f,\n\u001b[1;32m   1882\u001b[0m     mode,\n\u001b[1;32m   1883\u001b[0m     encoding\u001b[38;5;241m=\u001b[39m\u001b[38;5;28mself\u001b[39m\u001b[38;5;241m.\u001b[39moptions\u001b[38;5;241m.\u001b[39mget(\u001b[38;5;124m\"\u001b[39m\u001b[38;5;124mencoding\u001b[39m\u001b[38;5;124m\"\u001b[39m, \u001b[38;5;28;01mNone\u001b[39;00m),\n\u001b[1;32m   1884\u001b[0m     compression\u001b[38;5;241m=\u001b[39m\u001b[38;5;28mself\u001b[39m\u001b[38;5;241m.\u001b[39moptions\u001b[38;5;241m.\u001b[39mget(\u001b[38;5;124m\"\u001b[39m\u001b[38;5;124mcompression\u001b[39m\u001b[38;5;124m\"\u001b[39m, \u001b[38;5;28;01mNone\u001b[39;00m),\n\u001b[1;32m   1885\u001b[0m     memory_map\u001b[38;5;241m=\u001b[39m\u001b[38;5;28mself\u001b[39m\u001b[38;5;241m.\u001b[39moptions\u001b[38;5;241m.\u001b[39mget(\u001b[38;5;124m\"\u001b[39m\u001b[38;5;124mmemory_map\u001b[39m\u001b[38;5;124m\"\u001b[39m, \u001b[38;5;28;01mFalse\u001b[39;00m),\n\u001b[1;32m   1886\u001b[0m     is_text\u001b[38;5;241m=\u001b[39mis_text,\n\u001b[1;32m   1887\u001b[0m     errors\u001b[38;5;241m=\u001b[39m\u001b[38;5;28mself\u001b[39m\u001b[38;5;241m.\u001b[39moptions\u001b[38;5;241m.\u001b[39mget(\u001b[38;5;124m\"\u001b[39m\u001b[38;5;124mencoding_errors\u001b[39m\u001b[38;5;124m\"\u001b[39m, \u001b[38;5;124m\"\u001b[39m\u001b[38;5;124mstrict\u001b[39m\u001b[38;5;124m\"\u001b[39m),\n\u001b[1;32m   1888\u001b[0m     storage_options\u001b[38;5;241m=\u001b[39m\u001b[38;5;28mself\u001b[39m\u001b[38;5;241m.\u001b[39moptions\u001b[38;5;241m.\u001b[39mget(\u001b[38;5;124m\"\u001b[39m\u001b[38;5;124mstorage_options\u001b[39m\u001b[38;5;124m\"\u001b[39m, \u001b[38;5;28;01mNone\u001b[39;00m),\n\u001b[1;32m   1889\u001b[0m )\n\u001b[1;32m   1890\u001b[0m \u001b[38;5;28;01massert\u001b[39;00m \u001b[38;5;28mself\u001b[39m\u001b[38;5;241m.\u001b[39mhandles \u001b[38;5;129;01mis\u001b[39;00m \u001b[38;5;129;01mnot\u001b[39;00m \u001b[38;5;28;01mNone\u001b[39;00m\n\u001b[1;32m   1891\u001b[0m f \u001b[38;5;241m=\u001b[39m \u001b[38;5;28mself\u001b[39m\u001b[38;5;241m.\u001b[39mhandles\u001b[38;5;241m.\u001b[39mhandle\n",
      "File \u001b[0;32m~/anaconda3/lib/python3.11/site-packages/pandas/io/common.py:873\u001b[0m, in \u001b[0;36mget_handle\u001b[0;34m(path_or_buf, mode, encoding, compression, memory_map, is_text, errors, storage_options)\u001b[0m\n\u001b[1;32m    868\u001b[0m \u001b[38;5;28;01melif\u001b[39;00m \u001b[38;5;28misinstance\u001b[39m(handle, \u001b[38;5;28mstr\u001b[39m):\n\u001b[1;32m    869\u001b[0m     \u001b[38;5;66;03m# Check whether the filename is to be opened in binary mode.\u001b[39;00m\n\u001b[1;32m    870\u001b[0m     \u001b[38;5;66;03m# Binary mode does not support 'encoding' and 'newline'.\u001b[39;00m\n\u001b[1;32m    871\u001b[0m     \u001b[38;5;28;01mif\u001b[39;00m ioargs\u001b[38;5;241m.\u001b[39mencoding \u001b[38;5;129;01mand\u001b[39;00m \u001b[38;5;124m\"\u001b[39m\u001b[38;5;124mb\u001b[39m\u001b[38;5;124m\"\u001b[39m \u001b[38;5;129;01mnot\u001b[39;00m \u001b[38;5;129;01min\u001b[39;00m ioargs\u001b[38;5;241m.\u001b[39mmode:\n\u001b[1;32m    872\u001b[0m         \u001b[38;5;66;03m# Encoding\u001b[39;00m\n\u001b[0;32m--> 873\u001b[0m         handle \u001b[38;5;241m=\u001b[39m \u001b[38;5;28mopen\u001b[39m(\n\u001b[1;32m    874\u001b[0m             handle,\n\u001b[1;32m    875\u001b[0m             ioargs\u001b[38;5;241m.\u001b[39mmode,\n\u001b[1;32m    876\u001b[0m             encoding\u001b[38;5;241m=\u001b[39mioargs\u001b[38;5;241m.\u001b[39mencoding,\n\u001b[1;32m    877\u001b[0m             errors\u001b[38;5;241m=\u001b[39merrors,\n\u001b[1;32m    878\u001b[0m             newline\u001b[38;5;241m=\u001b[39m\u001b[38;5;124m\"\u001b[39m\u001b[38;5;124m\"\u001b[39m,\n\u001b[1;32m    879\u001b[0m         )\n\u001b[1;32m    880\u001b[0m     \u001b[38;5;28;01melse\u001b[39;00m:\n\u001b[1;32m    881\u001b[0m         \u001b[38;5;66;03m# Binary mode\u001b[39;00m\n\u001b[1;32m    882\u001b[0m         handle \u001b[38;5;241m=\u001b[39m \u001b[38;5;28mopen\u001b[39m(handle, ioargs\u001b[38;5;241m.\u001b[39mmode)\n",
      "\u001b[0;31mFileNotFoundError\u001b[0m: [Errno 2] No such file or directory: '/content/drive/My Drive/NEUKO/outputs/pre_ML/df_final3_top_10.csv'"
     ]
    }
   ],
   "source": [
    "\n",
    "\n",
    "df_final_10 = pd.read_csv('/content/drive/My Drive/NEUKO/outputs/pre_ML/df_final3_top_10.csv')\n",
    "df_final_20 = pd.read_csv('/content/drive/My Drive/NEUKO/outputs/pre_ML/df_final3_top_20.csv')\n",
    "df_final_30 = pd.read_csv('/content/drive/My Drive/NEUKO/outputs/pre_ML/df_final3_top_30.csv')\n",
    "df_final_40 = pd.read_csv('/content/drive/My Drive/NEUKO/outputs/pre_ML/df_final3_top_40.csv')\n",
    "df_final_50 = pd.read_csv('/content/drive/My Drive/NEUKO/outputs/pre_ML/df_final3_top_50.csv')\n",
    "df_final_60 = pd.read_csv('/content/drive/My Drive/NEUKO/outputs/pre_ML/df_final3_top_60.csv')\n",
    "df_final_70 = pd.read_csv('/content/drive/My Drive/NEUKO/outputs/pre_ML/df_final3_top_70.csv')\n",
    "df_final_80 = pd.read_csv('/content/drive/My Drive/NEUKO/outputs/pre_ML/df_final3_top_80.csv')\n",
    "df_final_90 = pd.read_csv('/content/drive/My Drive/NEUKO/outputs/pre_ML/df_final3_top_90.csv')\n",
    "df_final_100 = pd.read_csv('/content/drive/My Drive/NEUKO/outputs/pre_ML/df_final3_top_100.csv')\n"
   ]
  },
  {
   "cell_type": "code",
   "execution_count": 5,
   "id": "h38yqJ605fkK",
   "metadata": {
    "colab": {
     "base_uri": "https://localhost:8080/",
     "height": 443
    },
    "executionInfo": {
     "elapsed": 785,
     "status": "ok",
     "timestamp": 1723203489866,
     "user": {
      "displayName": "Guilherme Tavares",
      "userId": "02460284227855401496"
     },
     "user_tz": 180
    },
    "id": "h38yqJ605fkK",
    "outputId": "d24a3aeb-aa9c-4a1a-a711-04e370894b92"
   },
   "outputs": [
    {
     "data": {
      "application/vnd.google.colaboratory.intrinsic+json": {
       "type": "dataframe",
       "variable_name": "final_df2"
      },
      "text/html": [
       "\n",
       "  <div id=\"df-5d068e18-a268-4de8-8dc8-cb5dc7c264a9\" class=\"colab-df-container\">\n",
       "    <div>\n",
       "<style scoped>\n",
       "    .dataframe tbody tr th:only-of-type {\n",
       "        vertical-align: middle;\n",
       "    }\n",
       "\n",
       "    .dataframe tbody tr th {\n",
       "        vertical-align: top;\n",
       "    }\n",
       "\n",
       "    .dataframe thead th {\n",
       "        text-align: right;\n",
       "    }\n",
       "</style>\n",
       "<table border=\"1\" class=\"dataframe\">\n",
       "  <thead>\n",
       "    <tr style=\"text-align: right;\">\n",
       "      <th></th>\n",
       "      <th>EEG_condition</th>\n",
       "      <th>EEG_epoch</th>\n",
       "      <th>Delta_FC5</th>\n",
       "      <th>Theta_FC5</th>\n",
       "      <th>Low_AlphaFC5</th>\n",
       "      <th>High_Alpha_FC5</th>\n",
       "      <th>Low_Beta_FC5</th>\n",
       "      <th>Mid_Beta_FC5</th>\n",
       "      <th>High_Beta_FC5</th>\n",
       "      <th>Gamma_FC5</th>\n",
       "      <th>...</th>\n",
       "      <th>High_Alpha_O2</th>\n",
       "      <th>Low_Beta_O2</th>\n",
       "      <th>Mid_Beta_O2</th>\n",
       "      <th>High_Beta_O2</th>\n",
       "      <th>Gamma_O2</th>\n",
       "      <th>median_Value_O2</th>\n",
       "      <th>average_value_O2</th>\n",
       "      <th>std_value_O2</th>\n",
       "      <th>25_perc_value_O2</th>\n",
       "      <th>75_perc_O2</th>\n",
       "    </tr>\n",
       "  </thead>\n",
       "  <tbody>\n",
       "    <tr>\n",
       "      <th>1357</th>\n",
       "      <td>1</td>\n",
       "      <td>9</td>\n",
       "      <td>17.635432</td>\n",
       "      <td>13.654244</td>\n",
       "      <td>8.121522</td>\n",
       "      <td>15.535755</td>\n",
       "      <td>12.917439</td>\n",
       "      <td>17.747571</td>\n",
       "      <td>36.043681</td>\n",
       "      <td>47.471299</td>\n",
       "      <td>...</td>\n",
       "      <td>10.055912</td>\n",
       "      <td>8.990375</td>\n",
       "      <td>9.561913</td>\n",
       "      <td>23.887792</td>\n",
       "      <td>25.779132</td>\n",
       "      <td>0.055085</td>\n",
       "      <td>0.113868</td>\n",
       "      <td>25.720216</td>\n",
       "      <td>-11.005301</td>\n",
       "      <td>11.045207</td>\n",
       "    </tr>\n",
       "    <tr>\n",
       "      <th>4922</th>\n",
       "      <td>4</td>\n",
       "      <td>1</td>\n",
       "      <td>67.048793</td>\n",
       "      <td>198.901692</td>\n",
       "      <td>96.108430</td>\n",
       "      <td>48.397217</td>\n",
       "      <td>9.810268</td>\n",
       "      <td>8.140600</td>\n",
       "      <td>17.760309</td>\n",
       "      <td>10.958962</td>\n",
       "      <td>...</td>\n",
       "      <td>47.144880</td>\n",
       "      <td>13.104358</td>\n",
       "      <td>13.830446</td>\n",
       "      <td>13.850163</td>\n",
       "      <td>6.541103</td>\n",
       "      <td>-0.668668</td>\n",
       "      <td>-0.305105</td>\n",
       "      <td>54.652114</td>\n",
       "      <td>-14.277599</td>\n",
       "      <td>11.955175</td>\n",
       "    </tr>\n",
       "    <tr>\n",
       "      <th>246</th>\n",
       "      <td>2</td>\n",
       "      <td>27</td>\n",
       "      <td>29.777741</td>\n",
       "      <td>28.734547</td>\n",
       "      <td>20.296437</td>\n",
       "      <td>32.908326</td>\n",
       "      <td>26.474102</td>\n",
       "      <td>12.421508</td>\n",
       "      <td>14.794247</td>\n",
       "      <td>35.597858</td>\n",
       "      <td>...</td>\n",
       "      <td>33.997076</td>\n",
       "      <td>32.474574</td>\n",
       "      <td>19.869003</td>\n",
       "      <td>24.686202</td>\n",
       "      <td>24.999892</td>\n",
       "      <td>-0.474524</td>\n",
       "      <td>0.275485</td>\n",
       "      <td>28.493296</td>\n",
       "      <td>-14.995465</td>\n",
       "      <td>14.690924</td>\n",
       "    </tr>\n",
       "    <tr>\n",
       "      <th>5587</th>\n",
       "      <td>3</td>\n",
       "      <td>11</td>\n",
       "      <td>19.495928</td>\n",
       "      <td>17.743858</td>\n",
       "      <td>19.257811</td>\n",
       "      <td>20.466490</td>\n",
       "      <td>18.920668</td>\n",
       "      <td>14.915331</td>\n",
       "      <td>22.580223</td>\n",
       "      <td>6.098192</td>\n",
       "      <td>...</td>\n",
       "      <td>20.349282</td>\n",
       "      <td>18.453751</td>\n",
       "      <td>15.291015</td>\n",
       "      <td>17.644380</td>\n",
       "      <td>4.563587</td>\n",
       "      <td>-0.795166</td>\n",
       "      <td>0.075264</td>\n",
       "      <td>31.565511</td>\n",
       "      <td>-13.663939</td>\n",
       "      <td>10.767992</td>\n",
       "    </tr>\n",
       "    <tr>\n",
       "      <th>6626</th>\n",
       "      <td>0</td>\n",
       "      <td>18</td>\n",
       "      <td>21.960870</td>\n",
       "      <td>17.128813</td>\n",
       "      <td>21.200011</td>\n",
       "      <td>19.637401</td>\n",
       "      <td>19.736228</td>\n",
       "      <td>16.840624</td>\n",
       "      <td>22.451934</td>\n",
       "      <td>39.147205</td>\n",
       "      <td>...</td>\n",
       "      <td>11.816008</td>\n",
       "      <td>11.898248</td>\n",
       "      <td>11.375928</td>\n",
       "      <td>17.472985</td>\n",
       "      <td>27.539517</td>\n",
       "      <td>-0.764054</td>\n",
       "      <td>-0.020867</td>\n",
       "      <td>28.784407</td>\n",
       "      <td>-13.703814</td>\n",
       "      <td>12.298593</td>\n",
       "    </tr>\n",
       "    <tr>\n",
       "      <th>...</th>\n",
       "      <td>...</td>\n",
       "      <td>...</td>\n",
       "      <td>...</td>\n",
       "      <td>...</td>\n",
       "      <td>...</td>\n",
       "      <td>...</td>\n",
       "      <td>...</td>\n",
       "      <td>...</td>\n",
       "      <td>...</td>\n",
       "      <td>...</td>\n",
       "      <td>...</td>\n",
       "      <td>...</td>\n",
       "      <td>...</td>\n",
       "      <td>...</td>\n",
       "      <td>...</td>\n",
       "      <td>...</td>\n",
       "      <td>...</td>\n",
       "      <td>...</td>\n",
       "      <td>...</td>\n",
       "      <td>...</td>\n",
       "      <td>...</td>\n",
       "    </tr>\n",
       "    <tr>\n",
       "      <th>4656</th>\n",
       "      <td>2</td>\n",
       "      <td>5</td>\n",
       "      <td>46.679301</td>\n",
       "      <td>113.935673</td>\n",
       "      <td>60.992218</td>\n",
       "      <td>61.459236</td>\n",
       "      <td>24.270428</td>\n",
       "      <td>34.556247</td>\n",
       "      <td>34.685763</td>\n",
       "      <td>14.532485</td>\n",
       "      <td>...</td>\n",
       "      <td>34.797752</td>\n",
       "      <td>27.574236</td>\n",
       "      <td>33.292938</td>\n",
       "      <td>24.915912</td>\n",
       "      <td>12.821750</td>\n",
       "      <td>-0.006345</td>\n",
       "      <td>0.016740</td>\n",
       "      <td>37.820530</td>\n",
       "      <td>-15.395882</td>\n",
       "      <td>14.492969</td>\n",
       "    </tr>\n",
       "    <tr>\n",
       "      <th>7343</th>\n",
       "      <td>4</td>\n",
       "      <td>35</td>\n",
       "      <td>28.235596</td>\n",
       "      <td>39.385573</td>\n",
       "      <td>21.779110</td>\n",
       "      <td>32.640549</td>\n",
       "      <td>40.957205</td>\n",
       "      <td>34.322790</td>\n",
       "      <td>31.706509</td>\n",
       "      <td>29.448956</td>\n",
       "      <td>...</td>\n",
       "      <td>40.601952</td>\n",
       "      <td>39.465803</td>\n",
       "      <td>29.876651</td>\n",
       "      <td>31.424632</td>\n",
       "      <td>39.083212</td>\n",
       "      <td>0.687942</td>\n",
       "      <td>-0.449640</td>\n",
       "      <td>50.059047</td>\n",
       "      <td>-32.492921</td>\n",
       "      <td>34.195375</td>\n",
       "    </tr>\n",
       "    <tr>\n",
       "      <th>4552</th>\n",
       "      <td>0</td>\n",
       "      <td>4</td>\n",
       "      <td>41.620131</td>\n",
       "      <td>63.574655</td>\n",
       "      <td>40.721109</td>\n",
       "      <td>39.791299</td>\n",
       "      <td>46.868696</td>\n",
       "      <td>25.175954</td>\n",
       "      <td>18.362072</td>\n",
       "      <td>19.766913</td>\n",
       "      <td>...</td>\n",
       "      <td>28.794731</td>\n",
       "      <td>34.012464</td>\n",
       "      <td>21.235526</td>\n",
       "      <td>13.003573</td>\n",
       "      <td>13.610717</td>\n",
       "      <td>-0.779049</td>\n",
       "      <td>-0.079202</td>\n",
       "      <td>32.104190</td>\n",
       "      <td>-13.297132</td>\n",
       "      <td>12.308992</td>\n",
       "    </tr>\n",
       "    <tr>\n",
       "      <th>5566</th>\n",
       "      <td>2</td>\n",
       "      <td>27</td>\n",
       "      <td>19.967387</td>\n",
       "      <td>17.919878</td>\n",
       "      <td>16.917940</td>\n",
       "      <td>13.309961</td>\n",
       "      <td>12.370935</td>\n",
       "      <td>9.557820</td>\n",
       "      <td>11.823161</td>\n",
       "      <td>10.924528</td>\n",
       "      <td>...</td>\n",
       "      <td>9.859325</td>\n",
       "      <td>4.037252</td>\n",
       "      <td>4.342831</td>\n",
       "      <td>6.953084</td>\n",
       "      <td>8.543708</td>\n",
       "      <td>-0.618674</td>\n",
       "      <td>-0.125919</td>\n",
       "      <td>41.821246</td>\n",
       "      <td>-14.763977</td>\n",
       "      <td>13.388550</td>\n",
       "    </tr>\n",
       "    <tr>\n",
       "      <th>3449</th>\n",
       "      <td>2</td>\n",
       "      <td>25</td>\n",
       "      <td>9.510044</td>\n",
       "      <td>7.629114</td>\n",
       "      <td>8.342486</td>\n",
       "      <td>5.551790</td>\n",
       "      <td>6.224350</td>\n",
       "      <td>4.852880</td>\n",
       "      <td>23.478582</td>\n",
       "      <td>31.903402</td>\n",
       "      <td>...</td>\n",
       "      <td>8.338987</td>\n",
       "      <td>9.391868</td>\n",
       "      <td>8.932126</td>\n",
       "      <td>19.380760</td>\n",
       "      <td>31.672971</td>\n",
       "      <td>-0.370027</td>\n",
       "      <td>0.038693</td>\n",
       "      <td>37.338310</td>\n",
       "      <td>-12.597243</td>\n",
       "      <td>12.762643</td>\n",
       "    </tr>\n",
       "  </tbody>\n",
       "</table>\n",
       "<p>7735 rows × 821 columns</p>\n",
       "</div>\n",
       "    <div class=\"colab-df-buttons\">\n",
       "\n",
       "  <div class=\"colab-df-container\">\n",
       "    <button class=\"colab-df-convert\" onclick=\"convertToInteractive('df-5d068e18-a268-4de8-8dc8-cb5dc7c264a9')\"\n",
       "            title=\"Convert this dataframe to an interactive table.\"\n",
       "            style=\"display:none;\">\n",
       "\n",
       "  <svg xmlns=\"http://www.w3.org/2000/svg\" height=\"24px\" viewBox=\"0 -960 960 960\">\n",
       "    <path d=\"M120-120v-720h720v720H120Zm60-500h600v-160H180v160Zm220 220h160v-160H400v160Zm0 220h160v-160H400v160ZM180-400h160v-160H180v160Zm440 0h160v-160H620v160ZM180-180h160v-160H180v160Zm440 0h160v-160H620v160Z\"/>\n",
       "  </svg>\n",
       "    </button>\n",
       "\n",
       "  <style>\n",
       "    .colab-df-container {\n",
       "      display:flex;\n",
       "      gap: 12px;\n",
       "    }\n",
       "\n",
       "    .colab-df-convert {\n",
       "      background-color: #E8F0FE;\n",
       "      border: none;\n",
       "      border-radius: 50%;\n",
       "      cursor: pointer;\n",
       "      display: none;\n",
       "      fill: #1967D2;\n",
       "      height: 32px;\n",
       "      padding: 0 0 0 0;\n",
       "      width: 32px;\n",
       "    }\n",
       "\n",
       "    .colab-df-convert:hover {\n",
       "      background-color: #E2EBFA;\n",
       "      box-shadow: 0px 1px 2px rgba(60, 64, 67, 0.3), 0px 1px 3px 1px rgba(60, 64, 67, 0.15);\n",
       "      fill: #174EA6;\n",
       "    }\n",
       "\n",
       "    .colab-df-buttons div {\n",
       "      margin-bottom: 4px;\n",
       "    }\n",
       "\n",
       "    [theme=dark] .colab-df-convert {\n",
       "      background-color: #3B4455;\n",
       "      fill: #D2E3FC;\n",
       "    }\n",
       "\n",
       "    [theme=dark] .colab-df-convert:hover {\n",
       "      background-color: #434B5C;\n",
       "      box-shadow: 0px 1px 3px 1px rgba(0, 0, 0, 0.15);\n",
       "      filter: drop-shadow(0px 1px 2px rgba(0, 0, 0, 0.3));\n",
       "      fill: #FFFFFF;\n",
       "    }\n",
       "  </style>\n",
       "\n",
       "    <script>\n",
       "      const buttonEl =\n",
       "        document.querySelector('#df-5d068e18-a268-4de8-8dc8-cb5dc7c264a9 button.colab-df-convert');\n",
       "      buttonEl.style.display =\n",
       "        google.colab.kernel.accessAllowed ? 'block' : 'none';\n",
       "\n",
       "      async function convertToInteractive(key) {\n",
       "        const element = document.querySelector('#df-5d068e18-a268-4de8-8dc8-cb5dc7c264a9');\n",
       "        const dataTable =\n",
       "          await google.colab.kernel.invokeFunction('convertToInteractive',\n",
       "                                                    [key], {});\n",
       "        if (!dataTable) return;\n",
       "\n",
       "        const docLinkHtml = 'Like what you see? Visit the ' +\n",
       "          '<a target=\"_blank\" href=https://colab.research.google.com/notebooks/data_table.ipynb>data table notebook</a>'\n",
       "          + ' to learn more about interactive tables.';\n",
       "        element.innerHTML = '';\n",
       "        dataTable['output_type'] = 'display_data';\n",
       "        await google.colab.output.renderOutput(dataTable, element);\n",
       "        const docLink = document.createElement('div');\n",
       "        docLink.innerHTML = docLinkHtml;\n",
       "        element.appendChild(docLink);\n",
       "      }\n",
       "    </script>\n",
       "  </div>\n",
       "\n",
       "\n",
       "<div id=\"df-bd2d0647-62a9-4008-b17e-cb47d511aa3e\">\n",
       "  <button class=\"colab-df-quickchart\" onclick=\"quickchart('df-bd2d0647-62a9-4008-b17e-cb47d511aa3e')\"\n",
       "            title=\"Suggest charts\"\n",
       "            style=\"display:none;\">\n",
       "\n",
       "<svg xmlns=\"http://www.w3.org/2000/svg\" height=\"24px\"viewBox=\"0 0 24 24\"\n",
       "     width=\"24px\">\n",
       "    <g>\n",
       "        <path d=\"M19 3H5c-1.1 0-2 .9-2 2v14c0 1.1.9 2 2 2h14c1.1 0 2-.9 2-2V5c0-1.1-.9-2-2-2zM9 17H7v-7h2v7zm4 0h-2V7h2v10zm4 0h-2v-4h2v4z\"/>\n",
       "    </g>\n",
       "</svg>\n",
       "  </button>\n",
       "\n",
       "<style>\n",
       "  .colab-df-quickchart {\n",
       "      --bg-color: #E8F0FE;\n",
       "      --fill-color: #1967D2;\n",
       "      --hover-bg-color: #E2EBFA;\n",
       "      --hover-fill-color: #174EA6;\n",
       "      --disabled-fill-color: #AAA;\n",
       "      --disabled-bg-color: #DDD;\n",
       "  }\n",
       "\n",
       "  [theme=dark] .colab-df-quickchart {\n",
       "      --bg-color: #3B4455;\n",
       "      --fill-color: #D2E3FC;\n",
       "      --hover-bg-color: #434B5C;\n",
       "      --hover-fill-color: #FFFFFF;\n",
       "      --disabled-bg-color: #3B4455;\n",
       "      --disabled-fill-color: #666;\n",
       "  }\n",
       "\n",
       "  .colab-df-quickchart {\n",
       "    background-color: var(--bg-color);\n",
       "    border: none;\n",
       "    border-radius: 50%;\n",
       "    cursor: pointer;\n",
       "    display: none;\n",
       "    fill: var(--fill-color);\n",
       "    height: 32px;\n",
       "    padding: 0;\n",
       "    width: 32px;\n",
       "  }\n",
       "\n",
       "  .colab-df-quickchart:hover {\n",
       "    background-color: var(--hover-bg-color);\n",
       "    box-shadow: 0 1px 2px rgba(60, 64, 67, 0.3), 0 1px 3px 1px rgba(60, 64, 67, 0.15);\n",
       "    fill: var(--button-hover-fill-color);\n",
       "  }\n",
       "\n",
       "  .colab-df-quickchart-complete:disabled,\n",
       "  .colab-df-quickchart-complete:disabled:hover {\n",
       "    background-color: var(--disabled-bg-color);\n",
       "    fill: var(--disabled-fill-color);\n",
       "    box-shadow: none;\n",
       "  }\n",
       "\n",
       "  .colab-df-spinner {\n",
       "    border: 2px solid var(--fill-color);\n",
       "    border-color: transparent;\n",
       "    border-bottom-color: var(--fill-color);\n",
       "    animation:\n",
       "      spin 1s steps(1) infinite;\n",
       "  }\n",
       "\n",
       "  @keyframes spin {\n",
       "    0% {\n",
       "      border-color: transparent;\n",
       "      border-bottom-color: var(--fill-color);\n",
       "      border-left-color: var(--fill-color);\n",
       "    }\n",
       "    20% {\n",
       "      border-color: transparent;\n",
       "      border-left-color: var(--fill-color);\n",
       "      border-top-color: var(--fill-color);\n",
       "    }\n",
       "    30% {\n",
       "      border-color: transparent;\n",
       "      border-left-color: var(--fill-color);\n",
       "      border-top-color: var(--fill-color);\n",
       "      border-right-color: var(--fill-color);\n",
       "    }\n",
       "    40% {\n",
       "      border-color: transparent;\n",
       "      border-right-color: var(--fill-color);\n",
       "      border-top-color: var(--fill-color);\n",
       "    }\n",
       "    60% {\n",
       "      border-color: transparent;\n",
       "      border-right-color: var(--fill-color);\n",
       "    }\n",
       "    80% {\n",
       "      border-color: transparent;\n",
       "      border-right-color: var(--fill-color);\n",
       "      border-bottom-color: var(--fill-color);\n",
       "    }\n",
       "    90% {\n",
       "      border-color: transparent;\n",
       "      border-bottom-color: var(--fill-color);\n",
       "    }\n",
       "  }\n",
       "</style>\n",
       "\n",
       "  <script>\n",
       "    async function quickchart(key) {\n",
       "      const quickchartButtonEl =\n",
       "        document.querySelector('#' + key + ' button');\n",
       "      quickchartButtonEl.disabled = true;  // To prevent multiple clicks.\n",
       "      quickchartButtonEl.classList.add('colab-df-spinner');\n",
       "      try {\n",
       "        const charts = await google.colab.kernel.invokeFunction(\n",
       "            'suggestCharts', [key], {});\n",
       "      } catch (error) {\n",
       "        console.error('Error during call to suggestCharts:', error);\n",
       "      }\n",
       "      quickchartButtonEl.classList.remove('colab-df-spinner');\n",
       "      quickchartButtonEl.classList.add('colab-df-quickchart-complete');\n",
       "    }\n",
       "    (() => {\n",
       "      let quickchartButtonEl =\n",
       "        document.querySelector('#df-bd2d0647-62a9-4008-b17e-cb47d511aa3e button');\n",
       "      quickchartButtonEl.style.display =\n",
       "        google.colab.kernel.accessAllowed ? 'block' : 'none';\n",
       "    })();\n",
       "  </script>\n",
       "</div>\n",
       "\n",
       "  <div id=\"id_1bfcd58f-a8f0-438a-9f72-e3badb9d83b5\">\n",
       "    <style>\n",
       "      .colab-df-generate {\n",
       "        background-color: #E8F0FE;\n",
       "        border: none;\n",
       "        border-radius: 50%;\n",
       "        cursor: pointer;\n",
       "        display: none;\n",
       "        fill: #1967D2;\n",
       "        height: 32px;\n",
       "        padding: 0 0 0 0;\n",
       "        width: 32px;\n",
       "      }\n",
       "\n",
       "      .colab-df-generate:hover {\n",
       "        background-color: #E2EBFA;\n",
       "        box-shadow: 0px 1px 2px rgba(60, 64, 67, 0.3), 0px 1px 3px 1px rgba(60, 64, 67, 0.15);\n",
       "        fill: #174EA6;\n",
       "      }\n",
       "\n",
       "      [theme=dark] .colab-df-generate {\n",
       "        background-color: #3B4455;\n",
       "        fill: #D2E3FC;\n",
       "      }\n",
       "\n",
       "      [theme=dark] .colab-df-generate:hover {\n",
       "        background-color: #434B5C;\n",
       "        box-shadow: 0px 1px 3px 1px rgba(0, 0, 0, 0.15);\n",
       "        filter: drop-shadow(0px 1px 2px rgba(0, 0, 0, 0.3));\n",
       "        fill: #FFFFFF;\n",
       "      }\n",
       "    </style>\n",
       "    <button class=\"colab-df-generate\" onclick=\"generateWithVariable('final_df2')\"\n",
       "            title=\"Generate code using this dataframe.\"\n",
       "            style=\"display:none;\">\n",
       "\n",
       "  <svg xmlns=\"http://www.w3.org/2000/svg\" height=\"24px\"viewBox=\"0 0 24 24\"\n",
       "       width=\"24px\">\n",
       "    <path d=\"M7,19H8.4L18.45,9,17,7.55,7,17.6ZM5,21V16.75L18.45,3.32a2,2,0,0,1,2.83,0l1.4,1.43a1.91,1.91,0,0,1,.58,1.4,1.91,1.91,0,0,1-.58,1.4L9.25,21ZM18.45,9,17,7.55Zm-12,3A5.31,5.31,0,0,0,4.9,8.1,5.31,5.31,0,0,0,1,6.5,5.31,5.31,0,0,0,4.9,4.9,5.31,5.31,0,0,0,6.5,1,5.31,5.31,0,0,0,8.1,4.9,5.31,5.31,0,0,0,12,6.5,5.46,5.46,0,0,0,6.5,12Z\"/>\n",
       "  </svg>\n",
       "    </button>\n",
       "    <script>\n",
       "      (() => {\n",
       "      const buttonEl =\n",
       "        document.querySelector('#id_1bfcd58f-a8f0-438a-9f72-e3badb9d83b5 button.colab-df-generate');\n",
       "      buttonEl.style.display =\n",
       "        google.colab.kernel.accessAllowed ? 'block' : 'none';\n",
       "\n",
       "      buttonEl.onclick = () => {\n",
       "        google.colab.notebook.generateWithVariable('final_df2');\n",
       "      }\n",
       "      })();\n",
       "    </script>\n",
       "  </div>\n",
       "\n",
       "    </div>\n",
       "  </div>\n"
      ],
      "text/plain": [
       "      EEG_condition  EEG_epoch  Delta_FC5   Theta_FC5  Low_AlphaFC5  \\\n",
       "1357              1          9  17.635432   13.654244      8.121522   \n",
       "4922              4          1  67.048793  198.901692     96.108430   \n",
       "246               2         27  29.777741   28.734547     20.296437   \n",
       "5587              3         11  19.495928   17.743858     19.257811   \n",
       "6626              0         18  21.960870   17.128813     21.200011   \n",
       "...             ...        ...        ...         ...           ...   \n",
       "4656              2          5  46.679301  113.935673     60.992218   \n",
       "7343              4         35  28.235596   39.385573     21.779110   \n",
       "4552              0          4  41.620131   63.574655     40.721109   \n",
       "5566              2         27  19.967387   17.919878     16.917940   \n",
       "3449              2         25   9.510044    7.629114      8.342486   \n",
       "\n",
       "      High_Alpha_FC5  Low_Beta_FC5  Mid_Beta_FC5  High_Beta_FC5  Gamma_FC5  \\\n",
       "1357       15.535755     12.917439     17.747571      36.043681  47.471299   \n",
       "4922       48.397217      9.810268      8.140600      17.760309  10.958962   \n",
       "246        32.908326     26.474102     12.421508      14.794247  35.597858   \n",
       "5587       20.466490     18.920668     14.915331      22.580223   6.098192   \n",
       "6626       19.637401     19.736228     16.840624      22.451934  39.147205   \n",
       "...              ...           ...           ...            ...        ...   \n",
       "4656       61.459236     24.270428     34.556247      34.685763  14.532485   \n",
       "7343       32.640549     40.957205     34.322790      31.706509  29.448956   \n",
       "4552       39.791299     46.868696     25.175954      18.362072  19.766913   \n",
       "5566       13.309961     12.370935      9.557820      11.823161  10.924528   \n",
       "3449        5.551790      6.224350      4.852880      23.478582  31.903402   \n",
       "\n",
       "      ...  High_Alpha_O2  Low_Beta_O2  Mid_Beta_O2  High_Beta_O2   Gamma_O2  \\\n",
       "1357  ...      10.055912     8.990375     9.561913     23.887792  25.779132   \n",
       "4922  ...      47.144880    13.104358    13.830446     13.850163   6.541103   \n",
       "246   ...      33.997076    32.474574    19.869003     24.686202  24.999892   \n",
       "5587  ...      20.349282    18.453751    15.291015     17.644380   4.563587   \n",
       "6626  ...      11.816008    11.898248    11.375928     17.472985  27.539517   \n",
       "...   ...            ...          ...          ...           ...        ...   \n",
       "4656  ...      34.797752    27.574236    33.292938     24.915912  12.821750   \n",
       "7343  ...      40.601952    39.465803    29.876651     31.424632  39.083212   \n",
       "4552  ...      28.794731    34.012464    21.235526     13.003573  13.610717   \n",
       "5566  ...       9.859325     4.037252     4.342831      6.953084   8.543708   \n",
       "3449  ...       8.338987     9.391868     8.932126     19.380760  31.672971   \n",
       "\n",
       "      median_Value_O2  average_value_O2  std_value_O2  25_perc_value_O2  \\\n",
       "1357         0.055085          0.113868     25.720216        -11.005301   \n",
       "4922        -0.668668         -0.305105     54.652114        -14.277599   \n",
       "246         -0.474524          0.275485     28.493296        -14.995465   \n",
       "5587        -0.795166          0.075264     31.565511        -13.663939   \n",
       "6626        -0.764054         -0.020867     28.784407        -13.703814   \n",
       "...               ...               ...           ...               ...   \n",
       "4656        -0.006345          0.016740     37.820530        -15.395882   \n",
       "7343         0.687942         -0.449640     50.059047        -32.492921   \n",
       "4552        -0.779049         -0.079202     32.104190        -13.297132   \n",
       "5566        -0.618674         -0.125919     41.821246        -14.763977   \n",
       "3449        -0.370027          0.038693     37.338310        -12.597243   \n",
       "\n",
       "      75_perc_O2  \n",
       "1357   11.045207  \n",
       "4922   11.955175  \n",
       "246    14.690924  \n",
       "5587   10.767992  \n",
       "6626   12.298593  \n",
       "...          ...  \n",
       "4656   14.492969  \n",
       "7343   34.195375  \n",
       "4552   12.308992  \n",
       "5566   13.388550  \n",
       "3449   12.762643  \n",
       "\n",
       "[7735 rows x 821 columns]"
      ]
     },
     "execution_count": 5,
     "metadata": {},
     "output_type": "execute_result"
    }
   ],
   "source": [
    "all_df = [df_final_10, df_final_20, df_final_30, df_final_40,df_final_50,\n",
    "          df_final_60, df_final_70, df_final_80, df_final_90, df_final_100]\n",
    "\n",
    "#all_df = [df_final_100, df_final_20, df_final_30, df_final_40,df_final_50,\n",
    "#          df_final_60, df_final_70, df_final_80, df_final_90]\n",
    "final_df2 = pd.concat(all_df, ignore_index=True)\n",
    "final_df2 = final_df2.drop(final_df2.filter(regex='Channel_').columns, axis=1)\n",
    "final_df2 = final_df2.drop('EEG_person', axis=1)\n",
    "final_df2 = final_df2.sample(frac = 1)\n",
    "final_df2\n",
    "\n"
   ]
  },
  {
   "cell_type": "code",
   "execution_count": 1,
   "id": "f_AazbmW6Aqn",
   "metadata": {
    "colab": {
     "base_uri": "https://localhost:8080/"
    },
    "executionInfo": {
     "elapsed": 352,
     "status": "ok",
     "timestamp": 1723203498010,
     "user": {
      "displayName": "Guilherme Tavares",
      "userId": "02460284227855401496"
     },
     "user_tz": 180
    },
    "id": "f_AazbmW6Aqn",
    "outputId": "1ec8faf8-0ef0-424b-e39b-b736ed647d27"
   },
   "outputs": [
    {
     "ename": "NameError",
     "evalue": "name 'final_df2' is not defined",
     "output_type": "error",
     "traceback": [
      "\u001b[0;31m---------------------------------------------------------------------------\u001b[0m",
      "\u001b[0;31mNameError\u001b[0m                                 Traceback (most recent call last)",
      "Cell \u001b[0;32mIn[1], line 1\u001b[0m\n\u001b[0;32m----> 1\u001b[0m final_df2_part \u001b[38;5;241m=\u001b[39m final_df2\u001b[38;5;241m.\u001b[39msample(frac \u001b[38;5;241m=\u001b[39m \u001b[38;5;241m0.80\u001b[39m)\n\u001b[1;32m      2\u001b[0m valid_final_part \u001b[38;5;241m=\u001b[39m final_df2\u001b[38;5;241m.\u001b[39mdrop(final_df2_part\u001b[38;5;241m.\u001b[39mindex)\n\u001b[1;32m      4\u001b[0m final_df2_part\u001b[38;5;241m.\u001b[39mshape\n",
      "\u001b[0;31mNameError\u001b[0m: name 'final_df2' is not defined"
     ]
    }
   ],
   "source": [
    "final_df2_part = final_df2.sample(frac = 0.80)\n",
    "valid_final_part = final_df2.drop(final_df2_part.index)\n",
    "\n",
    "final_df2_part.shape\n"
   ]
  },
  {
   "cell_type": "code",
   "execution_count": null,
   "id": "c31fbc86-9b9e-4355-ad6d-435be1ec3060",
   "metadata": {},
   "outputs": [],
   "source": []
  },
  {
   "cell_type": "code",
   "execution_count": null,
   "id": "OQrSBFlRxD1M",
   "metadata": {
    "colab": {
     "base_uri": "https://localhost:8080/",
     "height": 255
    },
    "executionInfo": {
     "elapsed": 673743,
     "status": "ok",
     "timestamp": 1723033678367,
     "user": {
      "displayName": "Guilherme Tavares",
      "userId": "02460284227855401496"
     },
     "user_tz": 180
    },
    "id": "OQrSBFlRxD1M",
    "outputId": "c812fb7c-ff4a-4211-ce5d-7c7811de017b"
   },
   "outputs": [
    {
     "data": {
      "text/html": [
       "<style>#sk-container-id-1 {color: black;}#sk-container-id-1 pre{padding: 0;}#sk-container-id-1 div.sk-toggleable {background-color: white;}#sk-container-id-1 label.sk-toggleable__label {cursor: pointer;display: block;width: 100%;margin-bottom: 0;padding: 0.3em;box-sizing: border-box;text-align: center;}#sk-container-id-1 label.sk-toggleable__label-arrow:before {content: \"▸\";float: left;margin-right: 0.25em;color: #696969;}#sk-container-id-1 label.sk-toggleable__label-arrow:hover:before {color: black;}#sk-container-id-1 div.sk-estimator:hover label.sk-toggleable__label-arrow:before {color: black;}#sk-container-id-1 div.sk-toggleable__content {max-height: 0;max-width: 0;overflow: hidden;text-align: left;background-color: #f0f8ff;}#sk-container-id-1 div.sk-toggleable__content pre {margin: 0.2em;color: black;border-radius: 0.25em;background-color: #f0f8ff;}#sk-container-id-1 input.sk-toggleable__control:checked~div.sk-toggleable__content {max-height: 200px;max-width: 100%;overflow: auto;}#sk-container-id-1 input.sk-toggleable__control:checked~label.sk-toggleable__label-arrow:before {content: \"▾\";}#sk-container-id-1 div.sk-estimator input.sk-toggleable__control:checked~label.sk-toggleable__label {background-color: #d4ebff;}#sk-container-id-1 div.sk-label input.sk-toggleable__control:checked~label.sk-toggleable__label {background-color: #d4ebff;}#sk-container-id-1 input.sk-hidden--visually {border: 0;clip: rect(1px 1px 1px 1px);clip: rect(1px, 1px, 1px, 1px);height: 1px;margin: -1px;overflow: hidden;padding: 0;position: absolute;width: 1px;}#sk-container-id-1 div.sk-estimator {font-family: monospace;background-color: #f0f8ff;border: 1px dotted black;border-radius: 0.25em;box-sizing: border-box;margin-bottom: 0.5em;}#sk-container-id-1 div.sk-estimator:hover {background-color: #d4ebff;}#sk-container-id-1 div.sk-parallel-item::after {content: \"\";width: 100%;border-bottom: 1px solid gray;flex-grow: 1;}#sk-container-id-1 div.sk-label:hover label.sk-toggleable__label {background-color: #d4ebff;}#sk-container-id-1 div.sk-serial::before {content: \"\";position: absolute;border-left: 1px solid gray;box-sizing: border-box;top: 0;bottom: 0;left: 50%;z-index: 0;}#sk-container-id-1 div.sk-serial {display: flex;flex-direction: column;align-items: center;background-color: white;padding-right: 0.2em;padding-left: 0.2em;position: relative;}#sk-container-id-1 div.sk-item {position: relative;z-index: 1;}#sk-container-id-1 div.sk-parallel {display: flex;align-items: stretch;justify-content: center;background-color: white;position: relative;}#sk-container-id-1 div.sk-item::before, #sk-container-id-1 div.sk-parallel-item::before {content: \"\";position: absolute;border-left: 1px solid gray;box-sizing: border-box;top: 0;bottom: 0;left: 50%;z-index: -1;}#sk-container-id-1 div.sk-parallel-item {display: flex;flex-direction: column;z-index: 1;position: relative;background-color: white;}#sk-container-id-1 div.sk-parallel-item:first-child::after {align-self: flex-end;width: 50%;}#sk-container-id-1 div.sk-parallel-item:last-child::after {align-self: flex-start;width: 50%;}#sk-container-id-1 div.sk-parallel-item:only-child::after {width: 0;}#sk-container-id-1 div.sk-dashed-wrapped {border: 1px dashed gray;margin: 0 0.4em 0.5em 0.4em;box-sizing: border-box;padding-bottom: 0.4em;background-color: white;}#sk-container-id-1 div.sk-label label {font-family: monospace;font-weight: bold;display: inline-block;line-height: 1.2em;}#sk-container-id-1 div.sk-label-container {text-align: center;}#sk-container-id-1 div.sk-container {/* jupyter's `normalize.less` sets `[hidden] { display: none; }` but bootstrap.min.css set `[hidden] { display: none !important; }` so we also need the `!important` here to be able to override the default hidden behavior on the sphinx rendered scikit-learn.org. See: https://github.com/scikit-learn/scikit-learn/issues/21755 */display: inline-block !important;position: relative;}#sk-container-id-1 div.sk-text-repr-fallback {display: none;}</style><div id=\"sk-container-id-1\" class=\"sk-top-container\"><div class=\"sk-text-repr-fallback\"><pre>GridSearchCV(cv=3, estimator=LogisticRegression(),\n",
       "             param_grid={&#x27;C&#x27;: array([1.e-03, 1.e-02, 1.e-01, 1.e+00, 1.e+01, 1.e+02, 1.e+03]),\n",
       "                         &#x27;penalty&#x27;: [&#x27;l2&#x27;],\n",
       "                         &#x27;solver&#x27;: [&#x27;liblinear&#x27;, &#x27;newton-cg&#x27;]},\n",
       "             scoring=&#x27;f1_micro&#x27;)</pre><b>In a Jupyter environment, please rerun this cell to show the HTML representation or trust the notebook. <br />On GitHub, the HTML representation is unable to render, please try loading this page with nbviewer.org.</b></div><div class=\"sk-container\" hidden><div class=\"sk-item sk-dashed-wrapped\"><div class=\"sk-label-container\"><div class=\"sk-label sk-toggleable\"><input class=\"sk-toggleable__control sk-hidden--visually\" id=\"sk-estimator-id-1\" type=\"checkbox\" ><label for=\"sk-estimator-id-1\" class=\"sk-toggleable__label sk-toggleable__label-arrow\">GridSearchCV</label><div class=\"sk-toggleable__content\"><pre>GridSearchCV(cv=3, estimator=LogisticRegression(),\n",
       "             param_grid={&#x27;C&#x27;: array([1.e-03, 1.e-02, 1.e-01, 1.e+00, 1.e+01, 1.e+02, 1.e+03]),\n",
       "                         &#x27;penalty&#x27;: [&#x27;l2&#x27;],\n",
       "                         &#x27;solver&#x27;: [&#x27;liblinear&#x27;, &#x27;newton-cg&#x27;]},\n",
       "             scoring=&#x27;f1_micro&#x27;)</pre></div></div></div><div class=\"sk-parallel\"><div class=\"sk-parallel-item\"><div class=\"sk-item\"><div class=\"sk-label-container\"><div class=\"sk-label sk-toggleable\"><input class=\"sk-toggleable__control sk-hidden--visually\" id=\"sk-estimator-id-2\" type=\"checkbox\" ><label for=\"sk-estimator-id-2\" class=\"sk-toggleable__label sk-toggleable__label-arrow\">estimator: LogisticRegression</label><div class=\"sk-toggleable__content\"><pre>LogisticRegression()</pre></div></div></div><div class=\"sk-serial\"><div class=\"sk-item\"><div class=\"sk-estimator sk-toggleable\"><input class=\"sk-toggleable__control sk-hidden--visually\" id=\"sk-estimator-id-3\" type=\"checkbox\" ><label for=\"sk-estimator-id-3\" class=\"sk-toggleable__label sk-toggleable__label-arrow\">LogisticRegression</label><div class=\"sk-toggleable__content\"><pre>LogisticRegression()</pre></div></div></div></div></div></div></div></div></div></div>"
      ],
      "text/plain": [
       "GridSearchCV(cv=3, estimator=LogisticRegression(),\n",
       "             param_grid={'C': array([1.e-03, 1.e-02, 1.e-01, 1.e+00, 1.e+01, 1.e+02, 1.e+03]),\n",
       "                         'penalty': ['l2'],\n",
       "                         'solver': ['liblinear', 'newton-cg']},\n",
       "             scoring='f1_micro')"
      ]
     },
     "execution_count": 18,
     "metadata": {},
     "output_type": "execute_result"
    }
   ],
   "source": [
    "\n",
    "grid={\"C\":np.logspace(-3,3,7), \"penalty\":[\"l2\"], \"solver\":['liblinear','newton-cg']}# l1 lasso l2 ridge\n",
    "#logreg=LogisticRegression(solver = 'liblinear')\n",
    "logreg=LogisticRegression()\n",
    "logreg_cv=GridSearchCV(logreg,grid,cv=3,scoring='f1_micro')\n",
    "logreg_cv.fit(X_train, y_train)"
   ]
  },
  {
   "cell_type": "code",
   "execution_count": null,
   "id": "N9KL9RgCwxLt",
   "metadata": {
    "id": "N9KL9RgCwxLt"
   },
   "outputs": [],
   "source": [
    "from sklearn.model_selection import GridSearchCV\n",
    "from sklearn.linear_model import LogisticRegression\n",
    "\n",
    "grid={\"C\":np.logspace(-3,3,7), \"penalty\":[\"l1\",\"l2\"]}# l1 lasso l2 ridge\n",
    "logreg=LogisticRegression()\n",
    "logreg_cv=GridSearchCV(logreg,grid,cv=5)\n",
    "logreg_cv.fit(X_train, y_train)"
   ]
  },
  {
   "cell_type": "code",
   "execution_count": 10,
   "id": "nr_U2ZdL8Q0_",
   "metadata": {
    "colab": {
     "base_uri": "https://localhost:8080/"
    },
    "executionInfo": {
     "elapsed": 2176,
     "status": "ok",
     "timestamp": 1723203839097,
     "user": {
      "displayName": "Guilherme Tavares",
      "userId": "02460284227855401496"
     },
     "user_tz": 180
    },
    "id": "nr_U2ZdL8Q0_",
    "outputId": "2a092ab3-51f2-4532-fe81-bb762a9207a7"
   },
   "outputs": [
    {
     "name": "stdout",
     "output_type": "stream",
     "text": [
      "Original Feature set (4641, 820)\n",
      "subset of Features (4641, 47)\n",
      "Accuracy on training set is : 0.8817065287653523\n",
      "Accuracy on test set is : 0.8623141564318035\n",
      "              precision    recall  f1-score   support\n",
      "\n",
      "           0       0.90      0.96      0.93       304\n",
      "           1       0.82      0.80      0.81       324\n",
      "           2       0.82      0.89      0.85       311\n",
      "           3       0.85      0.82      0.84       309\n",
      "           4       0.94      0.84      0.89       299\n",
      "\n",
      "    accuracy                           0.86      1547\n",
      "   macro avg       0.86      0.86      0.86      1547\n",
      "weighted avg       0.86      0.86      0.86      1547\n",
      "\n",
      "Accuracy on validation set is : 0.8545572074983839\n",
      "              precision    recall  f1-score   support\n",
      "\n",
      "           0       0.89      0.95      0.92       326\n",
      "           1       0.82      0.82      0.82       318\n",
      "           2       0.81      0.81      0.81       279\n",
      "           3       0.84      0.82      0.83       297\n",
      "           4       0.91      0.86      0.89       327\n",
      "\n",
      "    accuracy                           0.85      1547\n",
      "   macro avg       0.85      0.85      0.85      1547\n",
      "weighted avg       0.85      0.85      0.85      1547\n",
      "\n",
      "Accuracy AFTER FS on training set is : 0.5865115276879983\n",
      "[ 11  35  61  87  98 102 169 204 219 256 269 298 321 323 324 334 386 388\n",
      " 389 390 399 421 423 466 477 490 492 493 494 503 505 506 514 534 550 552\n",
      " 553 557 567 570 710 764 767 778 791 802 814]\n",
      "Feature names:  Index(['average_value_FC5', 'Gamma_FC1', 'Gamma_FC2', 'Gamma_FC6',\n",
      "       'Mid_Beta_C5', 'average_value_C5', '25_perc_value_C4', 'Gamma_CP3',\n",
      "       'average_value_CP1', 'Gamma_CP4', 'Gamma_CP6', 'std_value_Fpz',\n",
      "       'Gamma_AF7', 'average_value_AF7', 'std_value_AF7', 'Gamma_AF3',\n",
      "       'Gamma_F7', 'average_value_F7', 'std_value_F7', '25_perc_value_F7',\n",
      "       'Gamma_F5', 'High_Alpha_F1', 'Mid_Beta_F1', 'average_value_F4',\n",
      "       'Gamma_F6', 'Gamma_F8', 'average_value_F8', 'std_value_F8',\n",
      "       '25_perc_value_F8', 'Gamma_FT7', 'average_value_FT7', 'std_value_FT7',\n",
      "       'Mid_Beta_FT8', '75_perc_T7', 'Low_AlphaT9', 'Low_Beta_T9',\n",
      "       'Mid_Beta_T9', 'average_value_T9', 'High_Beta_T10', 'average_value_T10',\n",
      "       'High_Beta_P8', 'median_Value_PO4', '25_perc_value_PO4',\n",
      "       'average_value_PO8', 'average_value_O1', 'Gamma_Oz', 'High_Beta_O2'],\n",
      "      dtype='object')\n"
     ]
    },
    {
     "data": {
      "text/plain": [
       "(30,\n",
       " {'AF3',\n",
       "  'AF7',\n",
       "  'C4',\n",
       "  'C5',\n",
       "  'CP1',\n",
       "  'CP3',\n",
       "  'CP4',\n",
       "  'CP6',\n",
       "  'F1',\n",
       "  'F4',\n",
       "  'F5',\n",
       "  'F6',\n",
       "  'F7',\n",
       "  'F8',\n",
       "  'FC1',\n",
       "  'FC2',\n",
       "  'FC5',\n",
       "  'FC6',\n",
       "  'FT7',\n",
       "  'FT8',\n",
       "  'Fpz',\n",
       "  'O1',\n",
       "  'O2',\n",
       "  'Oz',\n",
       "  'P8',\n",
       "  'PO4',\n",
       "  'PO8',\n",
       "  'T10',\n",
       "  'T7',\n",
       "  'T9'})"
      ]
     },
     "execution_count": 10,
     "metadata": {},
     "output_type": "execute_result"
    }
   ],
   "source": [
    "#clf2 = LogisticRegression(C=1.e-02,penalty=\"l2\")\n",
    "#clf2 = LogisticRegression(C=1.e-02,penalty=\"l2\", solver=\"liblinear\")\n",
    "clf2 = LogisticRegression(C=1.e-02,penalty=\"l2\", solver=\"newton-cg\")\n",
    "\n",
    "scaler = StandardScaler()\n",
    "\n",
    "\n",
    "X = final_df2_part.drop(['EEG_condition'], axis=1)\n",
    "y = final_df2_part['EEG_condition'].values\n",
    "\n",
    "X = scaler.fit_transform(X)\n",
    "X_train, X_test, y_train, y_test = train_test_split(X, y, test_size=0.25, random_state=42, shuffle=True)\n",
    "\n",
    "select = SelectFromModel(LogisticRegression(C=1.e-02,penalty=\"l2\", solver=\"newton-cg\"), threshold='2.25*median')\n",
    "select.fit(X_train, y_train)\n",
    "X_train_selected = select.transform(X_train)\n",
    "print(\"Original Feature set\", X_train.shape)\n",
    "print(\"subset of Features\", X_train_selected.shape)\n",
    "\n",
    "clf2.fit(X_train, y_train)\n",
    "print(\"Accuracy on training set is : {}\".format(clf2.score(X_train, y_train)))\n",
    "print(\"Accuracy on test set is : {}\".format(clf2.score(X_test, y_test)))\n",
    "Y_test_pred = clf2.predict(X_test)\n",
    "print(classification_report(y_test, Y_test_pred))\n",
    "\n",
    "x_valid_normal = valid_final_part.drop(['EEG_condition'], axis=1)\n",
    "x_valid_normal = scaler.fit_transform(x_valid_normal)\n",
    "y_valid = valid_final_part['EEG_condition'].values\n",
    "Y_val_pred = clf2.predict(x_valid_normal)\n",
    "print(\"Accuracy on validation set is : {}\".format(clf2.score(x_valid_normal, y_valid)))\n",
    "print(classification_report(y_valid, Y_val_pred))\n",
    "\n",
    "clf2.fit(X_train_selected, y_train)\n",
    "print(\"Accuracy AFTER FS on training set is : {}\".format(clf2.score(X_train_selected, y_train)))\n",
    "#print(\"Accuracy AFTER FS on test set is : {}\".format(clf2.score(X_test, y_test)))\n",
    "#Y_test_pred = clf2.predict(X_test)\n",
    "#print(classification_report(y_test, Y_test_pred))\n",
    "print(select.get_support(indices=True))\n",
    "pos = select.get_support(indices=True)\n",
    "colname = final_df2_part.columns[pos]\n",
    "print(\"Feature names: \",colname)\n",
    "x = colname\n",
    "x = list(x)\n",
    "set_column(x)"
   ]
  },
  {
   "cell_type": "code",
   "execution_count": null,
   "id": "xsU0UQe5jIqC",
   "metadata": {
    "colab": {
     "base_uri": "https://localhost:8080/"
    },
    "executionInfo": {
     "elapsed": 351,
     "status": "ok",
     "timestamp": 1723130136872,
     "user": {
      "displayName": "Guilherme Tavares",
      "userId": "02460284227855401496"
     },
     "user_tz": 180
    },
    "id": "xsU0UQe5jIqC",
    "outputId": "d2f229cc-7b7a-4879-b7c5-a9ffa5e92cd2"
   },
   "outputs": [
    {
     "data": {
      "text/plain": [
       "['O1', 'Oz', 'Fpz', 'F7', 'F8', 'FT7', 'O2']"
      ]
     },
     "execution_count": 21,
     "metadata": {},
     "output_type": "execute_result"
    }
   ],
   "source": [
    "arr1 = ['C6','F3','F7',\n",
    "  'F8','FT7',\n",
    "  'Fp1','Fpz','Fz',\n",
    "  'O1',\n",
    "  'O2',\n",
    "  'Oz',\n",
    "  'P8',\n",
    "  'TP8']\n",
    "arr2=['AF3',\n",
    "  'AF7',\n",
    "  'AF8',\n",
    "  'C4',\n",
    "  'C5',\n",
    "  'CP1',\n",
    "  'CP6',\n",
    "  'F1',\n",
    "  'F5',\n",
    "  'F6',\n",
    "  'F7',\n",
    "  'F8',\n",
    "  'FC1',\n",
    "  'FC2',\n",
    "  'FC5',\n",
    "  'FT7',\n",
    "  'FT8',\n",
    "  'Fpz',\n",
    "  'O1',\n",
    "  'O2',\n",
    "  'Oz',\n",
    "  'PO4',\n",
    "  'PO8',\n",
    "  'T10',\n",
    "  'T7',\n",
    "  'T8',\n",
    "  'T9']\n",
    "\n",
    "list(set(arr1).intersection(arr2))"
   ]
  },
  {
   "cell_type": "code",
   "execution_count": null,
   "id": "xqOY7jnWem0c",
   "metadata": {
    "colab": {
     "base_uri": "https://localhost:8080/"
    },
    "executionInfo": {
     "elapsed": 159380,
     "status": "ok",
     "timestamp": 1723129183379,
     "user": {
      "displayName": "Guilherme Tavares",
      "userId": "02460284227855401496"
     },
     "user_tz": 180
    },
    "id": "xqOY7jnWem0c",
    "outputId": "3a02d81a-b3a7-4c7d-88f2-e31929568b84"
   },
   "outputs": [
    {
     "name": "stdout",
     "output_type": "stream",
     "text": [
      "Fitting 5 folds for each of 288 candidates, totalling 1440 fits\n",
      "Best parameters: {'bootstrap': True, 'max_depth': 30, 'min_samples_leaf': 1, 'min_samples_split': 2, 'n_estimators': 10}\n"
     ]
    }
   ],
   "source": [
    "from sklearn.model_selection import GridSearchCV\n",
    "from sklearn.ensemble import RandomForestClassifier\n",
    "\n",
    "scaler = StandardScaler()\n",
    "\n",
    "\n",
    "X = final_df2_part.drop(['EEG_condition'], axis=1)\n",
    "y = final_df2_part['EEG_condition'].values\n",
    "\n",
    "X = scaler.fit_transform(X)\n",
    "X_train, X_test, y_train, y_test = train_test_split(X, y, test_size=0.25, random_state=42, shuffle=True)\n",
    "\n",
    "# Define the parameter grid\n",
    "grid = {'n_estimators': [10, 50, 100, 200],\n",
    "        'max_depth': [None, 10, 20, 30],\n",
    "        'min_samples_split': [2, 5, 10],\n",
    "        'min_samples_leaf': [1, 2, 4],\n",
    "        'bootstrap': [True, False]}\n",
    "\n",
    "# Initialize the classifier\n",
    "rf = RandomForestClassifier()\n",
    "\n",
    "# Initialize GridSearchCV\n",
    "grid_search = GridSearchCV(estimator=rf, param_grid=grid, cv=5, n_jobs=-1, verbose=2)\n",
    "\n",
    "# Fit the model\n",
    "grid_search.fit(X_train, y_train)\n",
    "\n",
    "# Best parameters\n",
    "best_params = grid_search.best_params_\n",
    "print('Best parameters:', best_params)"
   ]
  },
  {
   "cell_type": "code",
   "execution_count": 11,
   "id": "r3RY5C88d-Bs",
   "metadata": {
    "colab": {
     "base_uri": "https://localhost:8080/"
    },
    "executionInfo": {
     "elapsed": 1626,
     "status": "ok",
     "timestamp": 1723203967292,
     "user": {
      "displayName": "Guilherme Tavares",
      "userId": "02460284227855401496"
     },
     "user_tz": 180
    },
    "id": "r3RY5C88d-Bs",
    "outputId": "a5463376-9423-4ffe-de44-facac9929c2d"
   },
   "outputs": [
    {
     "name": "stdout",
     "output_type": "stream",
     "text": [
      "Original Feature set (4641, 820)\n",
      "subset of Features (4641, 23)\n",
      "Accuracy on training set is : 1.0\n",
      "Accuracy on test set is : 1.0\n",
      "              precision    recall  f1-score   support\n",
      "\n",
      "           0       1.00      1.00      1.00       304\n",
      "           1       1.00      1.00      1.00       324\n",
      "           2       1.00      1.00      1.00       311\n",
      "           3       1.00      1.00      1.00       309\n",
      "           4       1.00      1.00      1.00       299\n",
      "\n",
      "    accuracy                           1.00      1547\n",
      "   macro avg       1.00      1.00      1.00      1547\n",
      "weighted avg       1.00      1.00      1.00      1547\n",
      "\n",
      "Accuracy on validation set is : 0.9974143503555268\n",
      "              precision    recall  f1-score   support\n",
      "\n",
      "           0       1.00      1.00      1.00       326\n",
      "           1       1.00      1.00      1.00       318\n",
      "           2       0.99      1.00      1.00       279\n",
      "           3       0.99      0.99      0.99       297\n",
      "           4       1.00      0.99      1.00       327\n",
      "\n",
      "    accuracy                           1.00      1547\n",
      "   macro avg       1.00      1.00      1.00      1547\n",
      "weighted avg       1.00      1.00      1.00      1547\n",
      "\n",
      "Accuracy AFTER FS on training set is : 0.9997845291962939\n",
      "[ 22  76  88 268 306 308 321 323 373 380 388 412 438 447 452 453 464 503\n",
      " 529 567 596 597 609]\n",
      "Feature names:  Index(['Gamma_FC3', 'average_value_FC4', 'median_Value_FC6', 'High_Beta_CP6',\n",
      "       'Mid_Beta_Fp2', 'Gamma_Fp2', 'Gamma_AF7', 'average_value_AF7',\n",
      "       'Gamma_AF8', 'Theta_F7', 'average_value_F7', 'Gamma_F3', 'Gamma_Fz',\n",
      "       'High_Alpha_F2', 'median_Value_F2', 'average_value_F2', 'Gamma_F4',\n",
      "       'Gamma_FT7', 'Gamma_T7', 'High_Beta_T10', 'average_value_TP8',\n",
      "       'std_value_TP8', 'average_value_P7'],\n",
      "      dtype='object')\n"
     ]
    },
    {
     "data": {
      "text/plain": [
       "(17,\n",
       " {'AF7',\n",
       "  'AF8',\n",
       "  'CP6',\n",
       "  'F2',\n",
       "  'F3',\n",
       "  'F4',\n",
       "  'F7',\n",
       "  'FC3',\n",
       "  'FC4',\n",
       "  'FC6',\n",
       "  'FT7',\n",
       "  'Fp2',\n",
       "  'Fz',\n",
       "  'P7',\n",
       "  'T10',\n",
       "  'T7',\n",
       "  'TP8'})"
      ]
     },
     "execution_count": 11,
     "metadata": {},
     "output_type": "execute_result"
    }
   ],
   "source": [
    "#clf2 = LogisticRegression(C=1.e-02,penalty=\"l2\")\n",
    "#clf2 = LogisticRegression(C=1.e-02,penalty=\"l2\", solver=\"liblinear\")\n",
    "clf2 = RandomForestClassifier(bootstrap = True, max_depth = 30, min_samples_leaf = 1, min_samples_split = 2, n_estimators = 10)\n",
    "\n",
    "scaler = StandardScaler()\n",
    "\n",
    "\n",
    "X = final_df2_part.drop(['EEG_condition'], axis=1)\n",
    "y = final_df2_part['EEG_condition'].values\n",
    "\n",
    "X = scaler.fit_transform(X)\n",
    "X_train, X_test, y_train, y_test = train_test_split(X, y, test_size=0.25, random_state=42, shuffle=True)\n",
    "\n",
    "select = SelectFromModel(RandomForestClassifier(bootstrap = True, max_depth = 30, min_samples_leaf = 1, min_samples_split = 2, n_estimators = 10),\n",
    "                                                        threshold='3.95*median')\n",
    "select.fit(X_train, y_train)\n",
    "X_train_selected = select.transform(X_train)\n",
    "print(\"Original Feature set\", X_train.shape)\n",
    "print(\"subset of Features\", X_train_selected.shape)\n",
    "\n",
    "clf2.fit(X_train, y_train)\n",
    "print(\"Accuracy on training set is : {}\".format(clf2.score(X_train, y_train)))\n",
    "print(\"Accuracy on test set is : {}\".format(clf2.score(X_test, y_test)))\n",
    "Y_test_pred = clf2.predict(X_test)\n",
    "print(classification_report(y_test, Y_test_pred))\n",
    "\n",
    "x_valid_normal = valid_final_part.drop(['EEG_condition'], axis=1)\n",
    "x_valid_normal = scaler.fit_transform(x_valid_normal)\n",
    "y_valid = valid_final_part['EEG_condition'].values\n",
    "Y_val_pred = clf2.predict(x_valid_normal)\n",
    "print(\"Accuracy on validation set is : {}\".format(clf2.score(x_valid_normal, y_valid)))\n",
    "print(classification_report(y_valid, Y_val_pred))\n",
    "\n",
    "clf2.fit(X_train_selected, y_train)\n",
    "print(\"Accuracy AFTER FS on training set is : {}\".format(clf2.score(X_train_selected, y_train)))\n",
    "#print(\"Accuracy AFTER FS on test set is : {}\".format(clf2.score(X_test, y_test)))\n",
    "#Y_test_pred = clf2.predict(X_test)\n",
    "#print(classification_report(y_test, Y_test_pred))\n",
    "print(select.get_support(indices=True))\n",
    "pos = select.get_support(indices=True)\n",
    "colname = final_df2_part.columns[pos]\n",
    "print(\"Feature names: \",colname)\n",
    "x = colname\n",
    "x = list(x)\n",
    "set_column(x)"
   ]
  },
  {
   "cell_type": "code",
   "execution_count": 13,
   "id": "GFOJJf0Glhxo",
   "metadata": {
    "executionInfo": {
     "elapsed": 338,
     "status": "ok",
     "timestamp": 1723204032788,
     "user": {
      "displayName": "Guilherme Tavares",
      "userId": "02460284227855401496"
     },
     "user_tz": 180
    },
    "id": "GFOJJf0Glhxo"
   },
   "outputs": [],
   "source": [
    "#!pip install xgboost\n"
   ]
  },
  {
   "cell_type": "code",
   "execution_count": null,
   "id": "6EwjJjdalU3S",
   "metadata": {
    "colab": {
     "base_uri": "https://localhost:8080/"
    },
    "executionInfo": {
     "elapsed": 1949238,
     "status": "ok",
     "timestamp": 1723132565520,
     "user": {
      "displayName": "Guilherme Tavares",
      "userId": "02460284227855401496"
     },
     "user_tz": 180
    },
    "id": "6EwjJjdalU3S",
    "outputId": "175b7d61-bde8-49c9-8d07-38c774bb02aa"
   },
   "outputs": [
    {
     "name": "stdout",
     "output_type": "stream",
     "text": [
      "Best set of hyperparameters:  {'learning_rate': 0.1, 'max_depth': 5, 'subsample': 0.5}\n",
      "Best score:  0.9997844827586206\n"
     ]
    }
   ],
   "source": [
    "import xgboost as xgb\n",
    "from sklearn.model_selection import GridSearchCV\n",
    "\n",
    "# Define the hyperparameter grid\n",
    "param_grid = {\n",
    "    'max_depth': [3, 5, 7],\n",
    "    'learning_rate': [0.1, 0.01, 0.001],\n",
    "    'subsample': [0.5, 0.7, 1]\n",
    "}\n",
    "\n",
    "# Create the XGBoost model object\n",
    "xgb_model = xgb.XGBClassifier()\n",
    "\n",
    "# Create the GridSearchCV object\n",
    "grid_search = GridSearchCV(xgb_model, param_grid, cv=5, scoring='accuracy')\n",
    "\n",
    "# Fit the GridSearchCV object to the training data\n",
    "grid_search.fit(X_train, y_train)\n",
    "\n",
    "# Print the best set of hyperparameters and the corresponding score\n",
    "print(\"Best set of hyperparameters: \", grid_search.best_params_)\n",
    "print(\"Best score: \", grid_search.best_score_)"
   ]
  },
  {
   "cell_type": "code",
   "execution_count": 16,
   "id": "BpFbskqjlU_9",
   "metadata": {
    "colab": {
     "base_uri": "https://localhost:8080/"
    },
    "executionInfo": {
     "elapsed": 36053,
     "status": "ok",
     "timestamp": 1723204242948,
     "user": {
      "displayName": "Guilherme Tavares",
      "userId": "02460284227855401496"
     },
     "user_tz": 180
    },
    "id": "BpFbskqjlU_9",
    "outputId": "015a8650-ef40-496c-f102-56d576243576"
   },
   "outputs": [
    {
     "name": "stdout",
     "output_type": "stream",
     "text": [
      "Original Feature set (4641, 820)\n",
      "subset of Features (4641, 10)\n",
      "Accuracy on training set is : 1.0\n",
      "Accuracy on test set is : 1.0\n",
      "              precision    recall  f1-score   support\n",
      "\n",
      "           0       1.00      1.00      1.00       304\n",
      "           1       1.00      1.00      1.00       324\n",
      "           2       1.00      1.00      1.00       311\n",
      "           3       1.00      1.00      1.00       309\n",
      "           4       1.00      1.00      1.00       299\n",
      "\n",
      "    accuracy                           1.00      1547\n",
      "   macro avg       1.00      1.00      1.00      1547\n",
      "weighted avg       1.00      1.00      1.00      1547\n",
      "\n",
      "Accuracy on validation set is : 0.9974143503555268\n",
      "              precision    recall  f1-score   support\n",
      "\n",
      "           0       0.99      1.00      0.99       326\n",
      "           1       1.00      1.00      1.00       318\n",
      "           2       1.00      1.00      1.00       279\n",
      "           3       1.00      0.99      1.00       297\n",
      "           4       1.00      0.99      1.00       327\n",
      "\n",
      "    accuracy                           1.00      1547\n",
      "   macro avg       1.00      1.00      1.00      1547\n",
      "weighted avg       1.00      1.00      1.00      1547\n",
      "\n",
      "Accuracy AFTER FS on training set is : 0.9987071751777634\n",
      "[ 45 118 141 263 289 437 488 585 612 766]\n",
      "Feature names:  Index(['Low_Beta_FCz', '75_perc_C3', 'average_value_Cz', 'Theta_CP6',\n",
      "       'Theta_Fpz', 'High_Beta_Fz', 'Mid_Beta_F8', '25_perc_value_TP7',\n",
      "       '75_perc_P7', 'std_value_PO4'],\n",
      "      dtype='object')\n"
     ]
    },
    {
     "data": {
      "text/plain": [
       "(10, {'C3', 'CP6', 'Cz', 'F8', 'FCz', 'Fpz', 'Fz', 'P7', 'PO4', 'TP7'})"
      ]
     },
     "execution_count": 16,
     "metadata": {},
     "output_type": "execute_result"
    }
   ],
   "source": [
    "import xgboost as xgb\n",
    "#clf2 = LogisticRegression(C=1.e-02,penalty=\"l2\")\n",
    "#clf2 = LogisticRegression(C=1.e-02,penalty=\"l2\", solver=\"liblinear\")\n",
    "clf2 = xgb.XGBClassifier(learning_rate=0.1, max_depth=5, subsample=0.5)\n",
    "\n",
    "scaler = StandardScaler()\n",
    "\n",
    "\n",
    "X = final_df2_part.drop(['EEG_condition'], axis=1)\n",
    "y = final_df2_part['EEG_condition'].values\n",
    "\n",
    "X = scaler.fit_transform(X)\n",
    "X_train, X_test, y_train, y_test = train_test_split(X, y, test_size=0.25, random_state=42, shuffle=True)\n",
    "\n",
    "select = SelectFromModel(xgb.XGBClassifier(learning_rate=0.1, max_depth=5, subsample=0.5),\n",
    "                                                        threshold='4.95*median')\n",
    "select.fit(X_train, y_train)\n",
    "X_train_selected = select.transform(X_train)\n",
    "print(\"Original Feature set\", X_train.shape)\n",
    "print(\"subset of Features\", X_train_selected.shape)\n",
    "\n",
    "clf2.fit(X_train, y_train)\n",
    "print(\"Accuracy on training set is : {}\".format(clf2.score(X_train, y_train)))\n",
    "print(\"Accuracy on test set is : {}\".format(clf2.score(X_test, y_test)))\n",
    "Y_test_pred = clf2.predict(X_test)\n",
    "print(classification_report(y_test, Y_test_pred))\n",
    "\n",
    "x_valid_normal = valid_final_part.drop(['EEG_condition'], axis=1)\n",
    "x_valid_normal = scaler.fit_transform(x_valid_normal)\n",
    "y_valid = valid_final_part['EEG_condition'].values\n",
    "Y_val_pred = clf2.predict(x_valid_normal)\n",
    "print(\"Accuracy on validation set is : {}\".format(clf2.score(x_valid_normal, y_valid)))\n",
    "print(classification_report(y_valid, Y_val_pred))\n",
    "\n",
    "clf2.fit(X_train_selected, y_train)\n",
    "print(\"Accuracy AFTER FS on training set is : {}\".format(clf2.score(X_train_selected, y_train)))\n",
    "#print(\"Accuracy AFTER FS on test set is : {}\".format(clf2.score(X_test, y_test)))\n",
    "#Y_test_pred = clf2.predict(X_test)\n",
    "#print(classification_report(y_test, Y_test_pred))\n",
    "print(select.get_support(indices=True))\n",
    "pos = select.get_support(indices=True)\n",
    "colname = final_df2_part.columns[pos]\n",
    "print(\"Feature names: \",colname)\n",
    "x = colname\n",
    "x = list(x)\n",
    "set_column(x)"
   ]
  },
  {
   "cell_type": "code",
   "execution_count": 18,
   "id": "XLW3FrduxS2N",
   "metadata": {
    "colab": {
     "base_uri": "https://localhost:8080/",
     "height": 238
    },
    "executionInfo": {
     "elapsed": 919376,
     "status": "ok",
     "timestamp": 1723205750137,
     "user": {
      "displayName": "Guilherme Tavares",
      "userId": "02460284227855401496"
     },
     "user_tz": 180
    },
    "id": "XLW3FrduxS2N",
    "outputId": "1bb74965-74c3-432f-efa4-e7bb8dd58ade"
   },
   "outputs": [
    {
     "data": {
      "text/html": [
       "<style>#sk-container-id-1 {color: black;}#sk-container-id-1 pre{padding: 0;}#sk-container-id-1 div.sk-toggleable {background-color: white;}#sk-container-id-1 label.sk-toggleable__label {cursor: pointer;display: block;width: 100%;margin-bottom: 0;padding: 0.3em;box-sizing: border-box;text-align: center;}#sk-container-id-1 label.sk-toggleable__label-arrow:before {content: \"▸\";float: left;margin-right: 0.25em;color: #696969;}#sk-container-id-1 label.sk-toggleable__label-arrow:hover:before {color: black;}#sk-container-id-1 div.sk-estimator:hover label.sk-toggleable__label-arrow:before {color: black;}#sk-container-id-1 div.sk-toggleable__content {max-height: 0;max-width: 0;overflow: hidden;text-align: left;background-color: #f0f8ff;}#sk-container-id-1 div.sk-toggleable__content pre {margin: 0.2em;color: black;border-radius: 0.25em;background-color: #f0f8ff;}#sk-container-id-1 input.sk-toggleable__control:checked~div.sk-toggleable__content {max-height: 200px;max-width: 100%;overflow: auto;}#sk-container-id-1 input.sk-toggleable__control:checked~label.sk-toggleable__label-arrow:before {content: \"▾\";}#sk-container-id-1 div.sk-estimator input.sk-toggleable__control:checked~label.sk-toggleable__label {background-color: #d4ebff;}#sk-container-id-1 div.sk-label input.sk-toggleable__control:checked~label.sk-toggleable__label {background-color: #d4ebff;}#sk-container-id-1 input.sk-hidden--visually {border: 0;clip: rect(1px 1px 1px 1px);clip: rect(1px, 1px, 1px, 1px);height: 1px;margin: -1px;overflow: hidden;padding: 0;position: absolute;width: 1px;}#sk-container-id-1 div.sk-estimator {font-family: monospace;background-color: #f0f8ff;border: 1px dotted black;border-radius: 0.25em;box-sizing: border-box;margin-bottom: 0.5em;}#sk-container-id-1 div.sk-estimator:hover {background-color: #d4ebff;}#sk-container-id-1 div.sk-parallel-item::after {content: \"\";width: 100%;border-bottom: 1px solid gray;flex-grow: 1;}#sk-container-id-1 div.sk-label:hover label.sk-toggleable__label {background-color: #d4ebff;}#sk-container-id-1 div.sk-serial::before {content: \"\";position: absolute;border-left: 1px solid gray;box-sizing: border-box;top: 0;bottom: 0;left: 50%;z-index: 0;}#sk-container-id-1 div.sk-serial {display: flex;flex-direction: column;align-items: center;background-color: white;padding-right: 0.2em;padding-left: 0.2em;position: relative;}#sk-container-id-1 div.sk-item {position: relative;z-index: 1;}#sk-container-id-1 div.sk-parallel {display: flex;align-items: stretch;justify-content: center;background-color: white;position: relative;}#sk-container-id-1 div.sk-item::before, #sk-container-id-1 div.sk-parallel-item::before {content: \"\";position: absolute;border-left: 1px solid gray;box-sizing: border-box;top: 0;bottom: 0;left: 50%;z-index: -1;}#sk-container-id-1 div.sk-parallel-item {display: flex;flex-direction: column;z-index: 1;position: relative;background-color: white;}#sk-container-id-1 div.sk-parallel-item:first-child::after {align-self: flex-end;width: 50%;}#sk-container-id-1 div.sk-parallel-item:last-child::after {align-self: flex-start;width: 50%;}#sk-container-id-1 div.sk-parallel-item:only-child::after {width: 0;}#sk-container-id-1 div.sk-dashed-wrapped {border: 1px dashed gray;margin: 0 0.4em 0.5em 0.4em;box-sizing: border-box;padding-bottom: 0.4em;background-color: white;}#sk-container-id-1 div.sk-label label {font-family: monospace;font-weight: bold;display: inline-block;line-height: 1.2em;}#sk-container-id-1 div.sk-label-container {text-align: center;}#sk-container-id-1 div.sk-container {/* jupyter's `normalize.less` sets `[hidden] { display: none; }` but bootstrap.min.css set `[hidden] { display: none !important; }` so we also need the `!important` here to be able to override the default hidden behavior on the sphinx rendered scikit-learn.org. See: https://github.com/scikit-learn/scikit-learn/issues/21755 */display: inline-block !important;position: relative;}#sk-container-id-1 div.sk-text-repr-fallback {display: none;}</style><div id=\"sk-container-id-1\" class=\"sk-top-container\"><div class=\"sk-text-repr-fallback\"><pre>GridSearchCV(estimator=SVC(),\n",
       "             param_grid={&#x27;C&#x27;: [0.1, 1, 10, 100, 1000],\n",
       "                         &#x27;gamma&#x27;: [1, 0.1, 0.01, 0.001, 0.0001],\n",
       "                         &#x27;kernel&#x27;: [&#x27;rbf&#x27;, &#x27;linear&#x27;]})</pre><b>In a Jupyter environment, please rerun this cell to show the HTML representation or trust the notebook. <br />On GitHub, the HTML representation is unable to render, please try loading this page with nbviewer.org.</b></div><div class=\"sk-container\" hidden><div class=\"sk-item sk-dashed-wrapped\"><div class=\"sk-label-container\"><div class=\"sk-label sk-toggleable\"><input class=\"sk-toggleable__control sk-hidden--visually\" id=\"sk-estimator-id-1\" type=\"checkbox\" ><label for=\"sk-estimator-id-1\" class=\"sk-toggleable__label sk-toggleable__label-arrow\">GridSearchCV</label><div class=\"sk-toggleable__content\"><pre>GridSearchCV(estimator=SVC(),\n",
       "             param_grid={&#x27;C&#x27;: [0.1, 1, 10, 100, 1000],\n",
       "                         &#x27;gamma&#x27;: [1, 0.1, 0.01, 0.001, 0.0001],\n",
       "                         &#x27;kernel&#x27;: [&#x27;rbf&#x27;, &#x27;linear&#x27;]})</pre></div></div></div><div class=\"sk-parallel\"><div class=\"sk-parallel-item\"><div class=\"sk-item\"><div class=\"sk-label-container\"><div class=\"sk-label sk-toggleable\"><input class=\"sk-toggleable__control sk-hidden--visually\" id=\"sk-estimator-id-2\" type=\"checkbox\" ><label for=\"sk-estimator-id-2\" class=\"sk-toggleable__label sk-toggleable__label-arrow\">estimator: SVC</label><div class=\"sk-toggleable__content\"><pre>SVC()</pre></div></div></div><div class=\"sk-serial\"><div class=\"sk-item\"><div class=\"sk-estimator sk-toggleable\"><input class=\"sk-toggleable__control sk-hidden--visually\" id=\"sk-estimator-id-3\" type=\"checkbox\" ><label for=\"sk-estimator-id-3\" class=\"sk-toggleable__label sk-toggleable__label-arrow\">SVC</label><div class=\"sk-toggleable__content\"><pre>SVC()</pre></div></div></div></div></div></div></div></div></div></div>"
      ],
      "text/plain": [
       "GridSearchCV(estimator=SVC(),\n",
       "             param_grid={'C': [0.1, 1, 10, 100, 1000],\n",
       "                         'gamma': [1, 0.1, 0.01, 0.001, 0.0001],\n",
       "                         'kernel': ['rbf', 'linear']})"
      ]
     },
     "execution_count": 18,
     "metadata": {},
     "output_type": "execute_result"
    }
   ],
   "source": [
    "from sklearn.svm import SVC\n",
    "from sklearn.model_selection import GridSearchCV\n",
    "\n",
    "svm = SVC()\n",
    "# param_grid = {'C':[0.01,0.05,0.1,1,10, 100, 1000],'kernel':['linear','rbf'], 'gamma':['scale','auto'] }\n",
    "param_grid = {'C': [0.1, 1, 10, 100, 1000],\n",
    "              'gamma': [1, 0.1, 0.01, 0.001, 0.0001],\n",
    "              'kernel': ['rbf','linear']}\n",
    "grid = GridSearchCV(svm, param_grid)\n",
    "grid.fit(X_train,y_train)\n"
   ]
  },
  {
   "cell_type": "code",
   "execution_count": 21,
   "id": "58ul_DapFlIz",
   "metadata": {
    "colab": {
     "base_uri": "https://localhost:8080/"
    },
    "executionInfo": {
     "elapsed": 330,
     "status": "ok",
     "timestamp": 1723206098699,
     "user": {
      "displayName": "Guilherme Tavares",
      "userId": "02460284227855401496"
     },
     "user_tz": 180
    },
    "id": "58ul_DapFlIz",
    "outputId": "58de4f1f-c1f0-4d56-a481-637925782943"
   },
   "outputs": [
    {
     "name": "stdout",
     "output_type": "stream",
     "text": [
      "{'C': 1000, 'gamma': 0.0001, 'kernel': 'rbf'}\n"
     ]
    }
   ],
   "source": [
    "print(grid.best_params_)"
   ]
  },
  {
   "cell_type": "code",
   "execution_count": 20,
   "id": "vsAeNzqjBJ-d",
   "metadata": {
    "colab": {
     "base_uri": "https://localhost:8080/"
    },
    "executionInfo": {
     "elapsed": 1729,
     "status": "ok",
     "timestamp": 1723206039012,
     "user": {
      "displayName": "Guilherme Tavares",
      "userId": "02460284227855401496"
     },
     "user_tz": 180
    },
    "id": "vsAeNzqjBJ-d",
    "outputId": "a0605039-1c95-4f16-a3c9-00ad1226922a"
   },
   "outputs": [
    {
     "name": "stdout",
     "output_type": "stream",
     "text": [
      "              precision    recall  f1-score   support\n",
      "\n",
      "           0       1.00      1.00      1.00       304\n",
      "           1       1.00      1.00      1.00       324\n",
      "           2       1.00      1.00      1.00       311\n",
      "           3       1.00      1.00      1.00       309\n",
      "           4       1.00      1.00      1.00       299\n",
      "\n",
      "    accuracy                           1.00      1547\n",
      "   macro avg       1.00      1.00      1.00      1547\n",
      "weighted avg       1.00      1.00      1.00      1547\n",
      "\n"
     ]
    }
   ],
   "source": [
    "#Calculating the accuracy of tuned model\n",
    "grid_svc = grid.predict(X_test)\n",
    "print(classification_report(y_test,grid_svc))"
   ]
  },
  {
   "cell_type": "code",
   "execution_count": 23,
   "id": "LRI1WkQeKGTJ",
   "metadata": {
    "colab": {
     "base_uri": "https://localhost:8080/",
     "height": 356
    },
    "executionInfo": {
     "elapsed": 2748700,
     "status": "error",
     "timestamp": 1723210041063,
     "user": {
      "displayName": "Guilherme Tavares",
      "userId": "02460284227855401496"
     },
     "user_tz": 180
    },
    "id": "LRI1WkQeKGTJ",
    "outputId": "358a328b-19d4-4e7f-f9f1-f9030d8b5329"
   },
   "outputs": [
    {
     "ename": "KeyboardInterrupt",
     "evalue": "",
     "output_type": "error",
     "traceback": [
      "\u001b[0;31m---------------------------------------------------------------------------\u001b[0m",
      "\u001b[0;31mKeyboardInterrupt\u001b[0m                         Traceback (most recent call last)",
      "\u001b[0;32m<ipython-input-23-eddfe0cb715a>\u001b[0m in \u001b[0;36m<cell line: 4>\u001b[0;34m()\u001b[0m\n\u001b[1;32m      2\u001b[0m \u001b[0;31m# Forward Feature Selection\u001b[0m\u001b[0;34m\u001b[0m\u001b[0;34m\u001b[0m\u001b[0m\n\u001b[1;32m      3\u001b[0m \u001b[0msfs\u001b[0m \u001b[0;34m=\u001b[0m \u001b[0mSequentialFeatureSelector\u001b[0m\u001b[0;34m(\u001b[0m\u001b[0mestimator\u001b[0m\u001b[0;34m=\u001b[0m\u001b[0msvm\u001b[0m\u001b[0;34m,\u001b[0m \u001b[0mn_features_to_select\u001b[0m\u001b[0;34m=\u001b[0m\u001b[0;36m5\u001b[0m\u001b[0;34m,\u001b[0m \u001b[0mdirection\u001b[0m\u001b[0;34m=\u001b[0m\u001b[0;34m'forward'\u001b[0m\u001b[0;34m)\u001b[0m\u001b[0;34m\u001b[0m\u001b[0;34m\u001b[0m\u001b[0m\n\u001b[0;32m----> 4\u001b[0;31m \u001b[0msfs\u001b[0m\u001b[0;34m.\u001b[0m\u001b[0mfit\u001b[0m\u001b[0;34m(\u001b[0m\u001b[0mX_train\u001b[0m\u001b[0;34m,\u001b[0m \u001b[0my_train\u001b[0m\u001b[0;34m)\u001b[0m\u001b[0;34m\u001b[0m\u001b[0;34m\u001b[0m\u001b[0m\n\u001b[0m\u001b[1;32m      5\u001b[0m \u001b[0mselected_features\u001b[0m \u001b[0;34m=\u001b[0m \u001b[0msfs\u001b[0m\u001b[0;34m.\u001b[0m\u001b[0mget_support\u001b[0m\u001b[0;34m(\u001b[0m\u001b[0mindices\u001b[0m\u001b[0;34m=\u001b[0m\u001b[0;32mTrue\u001b[0m\u001b[0;34m)\u001b[0m \u001b[0;31m# Selected feature indices\u001b[0m\u001b[0;34m\u001b[0m\u001b[0;34m\u001b[0m\u001b[0m\n",
      "\u001b[0;32m/usr/local/lib/python3.10/dist-packages/sklearn/base.py\u001b[0m in \u001b[0;36mwrapper\u001b[0;34m(estimator, *args, **kwargs)\u001b[0m\n\u001b[1;32m   1150\u001b[0m                 )\n\u001b[1;32m   1151\u001b[0m             ):\n\u001b[0;32m-> 1152\u001b[0;31m                 \u001b[0;32mreturn\u001b[0m \u001b[0mfit_method\u001b[0m\u001b[0;34m(\u001b[0m\u001b[0mestimator\u001b[0m\u001b[0;34m,\u001b[0m \u001b[0;34m*\u001b[0m\u001b[0margs\u001b[0m\u001b[0;34m,\u001b[0m \u001b[0;34m**\u001b[0m\u001b[0mkwargs\u001b[0m\u001b[0;34m)\u001b[0m\u001b[0;34m\u001b[0m\u001b[0;34m\u001b[0m\u001b[0m\n\u001b[0m\u001b[1;32m   1153\u001b[0m \u001b[0;34m\u001b[0m\u001b[0m\n\u001b[1;32m   1154\u001b[0m         \u001b[0;32mreturn\u001b[0m \u001b[0mwrapper\u001b[0m\u001b[0;34m\u001b[0m\u001b[0;34m\u001b[0m\u001b[0m\n",
      "\u001b[0;32m/usr/local/lib/python3.10/dist-packages/sklearn/feature_selection/_sequential.py\u001b[0m in \u001b[0;36mfit\u001b[0;34m(self, X, y)\u001b[0m\n\u001b[1;32m    246\u001b[0m         \u001b[0mis_auto_select\u001b[0m \u001b[0;34m=\u001b[0m \u001b[0mself\u001b[0m\u001b[0;34m.\u001b[0m\u001b[0mtol\u001b[0m \u001b[0;32mis\u001b[0m \u001b[0;32mnot\u001b[0m \u001b[0;32mNone\u001b[0m \u001b[0;32mand\u001b[0m \u001b[0mself\u001b[0m\u001b[0;34m.\u001b[0m\u001b[0mn_features_to_select\u001b[0m \u001b[0;34m==\u001b[0m \u001b[0;34m\"auto\"\u001b[0m\u001b[0;34m\u001b[0m\u001b[0;34m\u001b[0m\u001b[0m\n\u001b[1;32m    247\u001b[0m         \u001b[0;32mfor\u001b[0m \u001b[0m_\u001b[0m \u001b[0;32min\u001b[0m \u001b[0mrange\u001b[0m\u001b[0;34m(\u001b[0m\u001b[0mn_iterations\u001b[0m\u001b[0;34m)\u001b[0m\u001b[0;34m:\u001b[0m\u001b[0;34m\u001b[0m\u001b[0;34m\u001b[0m\u001b[0m\n\u001b[0;32m--> 248\u001b[0;31m             new_feature_idx, new_score = self._get_best_new_feature_score(\n\u001b[0m\u001b[1;32m    249\u001b[0m                 \u001b[0mcloned_estimator\u001b[0m\u001b[0;34m,\u001b[0m \u001b[0mX\u001b[0m\u001b[0;34m,\u001b[0m \u001b[0my\u001b[0m\u001b[0;34m,\u001b[0m \u001b[0mcv\u001b[0m\u001b[0;34m,\u001b[0m \u001b[0mcurrent_mask\u001b[0m\u001b[0;34m\u001b[0m\u001b[0;34m\u001b[0m\u001b[0m\n\u001b[1;32m    250\u001b[0m             )\n",
      "\u001b[0;32m/usr/local/lib/python3.10/dist-packages/sklearn/feature_selection/_sequential.py\u001b[0m in \u001b[0;36m_get_best_new_feature_score\u001b[0;34m(self, estimator, X, y, cv, current_mask)\u001b[0m\n\u001b[1;32m    277\u001b[0m                 \u001b[0mcandidate_mask\u001b[0m \u001b[0;34m=\u001b[0m \u001b[0;34m~\u001b[0m\u001b[0mcandidate_mask\u001b[0m\u001b[0;34m\u001b[0m\u001b[0;34m\u001b[0m\u001b[0m\n\u001b[1;32m    278\u001b[0m             \u001b[0mX_new\u001b[0m \u001b[0;34m=\u001b[0m \u001b[0mX\u001b[0m\u001b[0;34m[\u001b[0m\u001b[0;34m:\u001b[0m\u001b[0;34m,\u001b[0m \u001b[0mcandidate_mask\u001b[0m\u001b[0;34m]\u001b[0m\u001b[0;34m\u001b[0m\u001b[0;34m\u001b[0m\u001b[0m\n\u001b[0;32m--> 279\u001b[0;31m             scores[feature_idx] = cross_val_score(\n\u001b[0m\u001b[1;32m    280\u001b[0m                 \u001b[0mestimator\u001b[0m\u001b[0;34m,\u001b[0m\u001b[0;34m\u001b[0m\u001b[0;34m\u001b[0m\u001b[0m\n\u001b[1;32m    281\u001b[0m                 \u001b[0mX_new\u001b[0m\u001b[0;34m,\u001b[0m\u001b[0;34m\u001b[0m\u001b[0;34m\u001b[0m\u001b[0m\n",
      "\u001b[0;32m/usr/local/lib/python3.10/dist-packages/sklearn/model_selection/_validation.py\u001b[0m in \u001b[0;36mcross_val_score\u001b[0;34m(estimator, X, y, groups, scoring, cv, n_jobs, verbose, fit_params, pre_dispatch, error_score)\u001b[0m\n\u001b[1;32m    560\u001b[0m     \u001b[0mscorer\u001b[0m \u001b[0;34m=\u001b[0m \u001b[0mcheck_scoring\u001b[0m\u001b[0;34m(\u001b[0m\u001b[0mestimator\u001b[0m\u001b[0;34m,\u001b[0m \u001b[0mscoring\u001b[0m\u001b[0;34m=\u001b[0m\u001b[0mscoring\u001b[0m\u001b[0;34m)\u001b[0m\u001b[0;34m\u001b[0m\u001b[0;34m\u001b[0m\u001b[0m\n\u001b[1;32m    561\u001b[0m \u001b[0;34m\u001b[0m\u001b[0m\n\u001b[0;32m--> 562\u001b[0;31m     cv_results = cross_validate(\n\u001b[0m\u001b[1;32m    563\u001b[0m         \u001b[0mestimator\u001b[0m\u001b[0;34m=\u001b[0m\u001b[0mestimator\u001b[0m\u001b[0;34m,\u001b[0m\u001b[0;34m\u001b[0m\u001b[0;34m\u001b[0m\u001b[0m\n\u001b[1;32m    564\u001b[0m         \u001b[0mX\u001b[0m\u001b[0;34m=\u001b[0m\u001b[0mX\u001b[0m\u001b[0;34m,\u001b[0m\u001b[0;34m\u001b[0m\u001b[0;34m\u001b[0m\u001b[0m\n",
      "\u001b[0;32m/usr/local/lib/python3.10/dist-packages/sklearn/utils/_param_validation.py\u001b[0m in \u001b[0;36mwrapper\u001b[0;34m(*args, **kwargs)\u001b[0m\n\u001b[1;32m    212\u001b[0m                     )\n\u001b[1;32m    213\u001b[0m                 ):\n\u001b[0;32m--> 214\u001b[0;31m                     \u001b[0;32mreturn\u001b[0m \u001b[0mfunc\u001b[0m\u001b[0;34m(\u001b[0m\u001b[0;34m*\u001b[0m\u001b[0margs\u001b[0m\u001b[0;34m,\u001b[0m \u001b[0;34m**\u001b[0m\u001b[0mkwargs\u001b[0m\u001b[0;34m)\u001b[0m\u001b[0;34m\u001b[0m\u001b[0;34m\u001b[0m\u001b[0m\n\u001b[0m\u001b[1;32m    215\u001b[0m             \u001b[0;32mexcept\u001b[0m \u001b[0mInvalidParameterError\u001b[0m \u001b[0;32mas\u001b[0m \u001b[0me\u001b[0m\u001b[0;34m:\u001b[0m\u001b[0;34m\u001b[0m\u001b[0;34m\u001b[0m\u001b[0m\n\u001b[1;32m    216\u001b[0m                 \u001b[0;31m# When the function is just a wrapper around an estimator, we allow\u001b[0m\u001b[0;34m\u001b[0m\u001b[0;34m\u001b[0m\u001b[0m\n",
      "\u001b[0;32m/usr/local/lib/python3.10/dist-packages/sklearn/model_selection/_validation.py\u001b[0m in \u001b[0;36mcross_validate\u001b[0;34m(estimator, X, y, groups, scoring, cv, n_jobs, verbose, fit_params, pre_dispatch, return_train_score, return_estimator, return_indices, error_score)\u001b[0m\n\u001b[1;32m    307\u001b[0m     \u001b[0;31m# independent, and that it is pickle-able.\u001b[0m\u001b[0;34m\u001b[0m\u001b[0;34m\u001b[0m\u001b[0m\n\u001b[1;32m    308\u001b[0m     \u001b[0mparallel\u001b[0m \u001b[0;34m=\u001b[0m \u001b[0mParallel\u001b[0m\u001b[0;34m(\u001b[0m\u001b[0mn_jobs\u001b[0m\u001b[0;34m=\u001b[0m\u001b[0mn_jobs\u001b[0m\u001b[0;34m,\u001b[0m \u001b[0mverbose\u001b[0m\u001b[0;34m=\u001b[0m\u001b[0mverbose\u001b[0m\u001b[0;34m,\u001b[0m \u001b[0mpre_dispatch\u001b[0m\u001b[0;34m=\u001b[0m\u001b[0mpre_dispatch\u001b[0m\u001b[0;34m)\u001b[0m\u001b[0;34m\u001b[0m\u001b[0;34m\u001b[0m\u001b[0m\n\u001b[0;32m--> 309\u001b[0;31m     results = parallel(\n\u001b[0m\u001b[1;32m    310\u001b[0m         delayed(_fit_and_score)(\n\u001b[1;32m    311\u001b[0m             \u001b[0mclone\u001b[0m\u001b[0;34m(\u001b[0m\u001b[0mestimator\u001b[0m\u001b[0;34m)\u001b[0m\u001b[0;34m,\u001b[0m\u001b[0;34m\u001b[0m\u001b[0;34m\u001b[0m\u001b[0m\n",
      "\u001b[0;32m/usr/local/lib/python3.10/dist-packages/sklearn/utils/parallel.py\u001b[0m in \u001b[0;36m__call__\u001b[0;34m(self, iterable)\u001b[0m\n\u001b[1;32m     63\u001b[0m             \u001b[0;32mfor\u001b[0m \u001b[0mdelayed_func\u001b[0m\u001b[0;34m,\u001b[0m \u001b[0margs\u001b[0m\u001b[0;34m,\u001b[0m \u001b[0mkwargs\u001b[0m \u001b[0;32min\u001b[0m \u001b[0miterable\u001b[0m\u001b[0;34m\u001b[0m\u001b[0;34m\u001b[0m\u001b[0m\n\u001b[1;32m     64\u001b[0m         )\n\u001b[0;32m---> 65\u001b[0;31m         \u001b[0;32mreturn\u001b[0m \u001b[0msuper\u001b[0m\u001b[0;34m(\u001b[0m\u001b[0;34m)\u001b[0m\u001b[0;34m.\u001b[0m\u001b[0m__call__\u001b[0m\u001b[0;34m(\u001b[0m\u001b[0miterable_with_config\u001b[0m\u001b[0;34m)\u001b[0m\u001b[0;34m\u001b[0m\u001b[0;34m\u001b[0m\u001b[0m\n\u001b[0m\u001b[1;32m     66\u001b[0m \u001b[0;34m\u001b[0m\u001b[0m\n\u001b[1;32m     67\u001b[0m \u001b[0;34m\u001b[0m\u001b[0m\n",
      "\u001b[0;32m/usr/local/lib/python3.10/dist-packages/joblib/parallel.py\u001b[0m in \u001b[0;36m__call__\u001b[0;34m(self, iterable)\u001b[0m\n\u001b[1;32m   1916\u001b[0m             \u001b[0moutput\u001b[0m \u001b[0;34m=\u001b[0m \u001b[0mself\u001b[0m\u001b[0;34m.\u001b[0m\u001b[0m_get_sequential_output\u001b[0m\u001b[0;34m(\u001b[0m\u001b[0miterable\u001b[0m\u001b[0;34m)\u001b[0m\u001b[0;34m\u001b[0m\u001b[0;34m\u001b[0m\u001b[0m\n\u001b[1;32m   1917\u001b[0m             \u001b[0mnext\u001b[0m\u001b[0;34m(\u001b[0m\u001b[0moutput\u001b[0m\u001b[0;34m)\u001b[0m\u001b[0;34m\u001b[0m\u001b[0;34m\u001b[0m\u001b[0m\n\u001b[0;32m-> 1918\u001b[0;31m             \u001b[0;32mreturn\u001b[0m \u001b[0moutput\u001b[0m \u001b[0;32mif\u001b[0m \u001b[0mself\u001b[0m\u001b[0;34m.\u001b[0m\u001b[0mreturn_generator\u001b[0m \u001b[0;32melse\u001b[0m \u001b[0mlist\u001b[0m\u001b[0;34m(\u001b[0m\u001b[0moutput\u001b[0m\u001b[0;34m)\u001b[0m\u001b[0;34m\u001b[0m\u001b[0;34m\u001b[0m\u001b[0m\n\u001b[0m\u001b[1;32m   1919\u001b[0m \u001b[0;34m\u001b[0m\u001b[0m\n\u001b[1;32m   1920\u001b[0m         \u001b[0;31m# Let's create an ID that uniquely identifies the current call. If the\u001b[0m\u001b[0;34m\u001b[0m\u001b[0;34m\u001b[0m\u001b[0m\n",
      "\u001b[0;32m/usr/local/lib/python3.10/dist-packages/joblib/parallel.py\u001b[0m in \u001b[0;36m_get_sequential_output\u001b[0;34m(self, iterable)\u001b[0m\n\u001b[1;32m   1845\u001b[0m                 \u001b[0mself\u001b[0m\u001b[0;34m.\u001b[0m\u001b[0mn_dispatched_batches\u001b[0m \u001b[0;34m+=\u001b[0m \u001b[0;36m1\u001b[0m\u001b[0;34m\u001b[0m\u001b[0;34m\u001b[0m\u001b[0m\n\u001b[1;32m   1846\u001b[0m                 \u001b[0mself\u001b[0m\u001b[0;34m.\u001b[0m\u001b[0mn_dispatched_tasks\u001b[0m \u001b[0;34m+=\u001b[0m \u001b[0;36m1\u001b[0m\u001b[0;34m\u001b[0m\u001b[0;34m\u001b[0m\u001b[0m\n\u001b[0;32m-> 1847\u001b[0;31m                 \u001b[0mres\u001b[0m \u001b[0;34m=\u001b[0m \u001b[0mfunc\u001b[0m\u001b[0;34m(\u001b[0m\u001b[0;34m*\u001b[0m\u001b[0margs\u001b[0m\u001b[0;34m,\u001b[0m \u001b[0;34m**\u001b[0m\u001b[0mkwargs\u001b[0m\u001b[0;34m)\u001b[0m\u001b[0;34m\u001b[0m\u001b[0;34m\u001b[0m\u001b[0m\n\u001b[0m\u001b[1;32m   1848\u001b[0m                 \u001b[0mself\u001b[0m\u001b[0;34m.\u001b[0m\u001b[0mn_completed_tasks\u001b[0m \u001b[0;34m+=\u001b[0m \u001b[0;36m1\u001b[0m\u001b[0;34m\u001b[0m\u001b[0;34m\u001b[0m\u001b[0m\n\u001b[1;32m   1849\u001b[0m                 \u001b[0mself\u001b[0m\u001b[0;34m.\u001b[0m\u001b[0mprint_progress\u001b[0m\u001b[0;34m(\u001b[0m\u001b[0;34m)\u001b[0m\u001b[0;34m\u001b[0m\u001b[0;34m\u001b[0m\u001b[0m\n",
      "\u001b[0;32m/usr/local/lib/python3.10/dist-packages/sklearn/utils/parallel.py\u001b[0m in \u001b[0;36m__call__\u001b[0;34m(self, *args, **kwargs)\u001b[0m\n\u001b[1;32m    125\u001b[0m             \u001b[0mconfig\u001b[0m \u001b[0;34m=\u001b[0m \u001b[0;34m{\u001b[0m\u001b[0;34m}\u001b[0m\u001b[0;34m\u001b[0m\u001b[0;34m\u001b[0m\u001b[0m\n\u001b[1;32m    126\u001b[0m         \u001b[0;32mwith\u001b[0m \u001b[0mconfig_context\u001b[0m\u001b[0;34m(\u001b[0m\u001b[0;34m**\u001b[0m\u001b[0mconfig\u001b[0m\u001b[0;34m)\u001b[0m\u001b[0;34m:\u001b[0m\u001b[0;34m\u001b[0m\u001b[0;34m\u001b[0m\u001b[0m\n\u001b[0;32m--> 127\u001b[0;31m             \u001b[0;32mreturn\u001b[0m \u001b[0mself\u001b[0m\u001b[0;34m.\u001b[0m\u001b[0mfunction\u001b[0m\u001b[0;34m(\u001b[0m\u001b[0;34m*\u001b[0m\u001b[0margs\u001b[0m\u001b[0;34m,\u001b[0m \u001b[0;34m**\u001b[0m\u001b[0mkwargs\u001b[0m\u001b[0;34m)\u001b[0m\u001b[0;34m\u001b[0m\u001b[0;34m\u001b[0m\u001b[0m\n\u001b[0m",
      "\u001b[0;32m/usr/local/lib/python3.10/dist-packages/sklearn/model_selection/_validation.py\u001b[0m in \u001b[0;36m_fit_and_score\u001b[0;34m(estimator, X, y, scorer, train, test, verbose, parameters, fit_params, return_train_score, return_parameters, return_n_test_samples, return_times, return_estimator, split_progress, candidate_progress, error_score)\u001b[0m\n\u001b[1;32m    727\u001b[0m             \u001b[0mestimator\u001b[0m\u001b[0;34m.\u001b[0m\u001b[0mfit\u001b[0m\u001b[0;34m(\u001b[0m\u001b[0mX_train\u001b[0m\u001b[0;34m,\u001b[0m \u001b[0;34m**\u001b[0m\u001b[0mfit_params\u001b[0m\u001b[0;34m)\u001b[0m\u001b[0;34m\u001b[0m\u001b[0;34m\u001b[0m\u001b[0m\n\u001b[1;32m    728\u001b[0m         \u001b[0;32melse\u001b[0m\u001b[0;34m:\u001b[0m\u001b[0;34m\u001b[0m\u001b[0;34m\u001b[0m\u001b[0m\n\u001b[0;32m--> 729\u001b[0;31m             \u001b[0mestimator\u001b[0m\u001b[0;34m.\u001b[0m\u001b[0mfit\u001b[0m\u001b[0;34m(\u001b[0m\u001b[0mX_train\u001b[0m\u001b[0;34m,\u001b[0m \u001b[0my_train\u001b[0m\u001b[0;34m,\u001b[0m \u001b[0;34m**\u001b[0m\u001b[0mfit_params\u001b[0m\u001b[0;34m)\u001b[0m\u001b[0;34m\u001b[0m\u001b[0;34m\u001b[0m\u001b[0m\n\u001b[0m\u001b[1;32m    730\u001b[0m \u001b[0;34m\u001b[0m\u001b[0m\n\u001b[1;32m    731\u001b[0m     \u001b[0;32mexcept\u001b[0m \u001b[0mException\u001b[0m\u001b[0;34m:\u001b[0m\u001b[0;34m\u001b[0m\u001b[0;34m\u001b[0m\u001b[0m\n",
      "\u001b[0;32m/usr/local/lib/python3.10/dist-packages/sklearn/base.py\u001b[0m in \u001b[0;36mwrapper\u001b[0;34m(estimator, *args, **kwargs)\u001b[0m\n\u001b[1;32m   1150\u001b[0m                 )\n\u001b[1;32m   1151\u001b[0m             ):\n\u001b[0;32m-> 1152\u001b[0;31m                 \u001b[0;32mreturn\u001b[0m \u001b[0mfit_method\u001b[0m\u001b[0;34m(\u001b[0m\u001b[0mestimator\u001b[0m\u001b[0;34m,\u001b[0m \u001b[0;34m*\u001b[0m\u001b[0margs\u001b[0m\u001b[0;34m,\u001b[0m \u001b[0;34m**\u001b[0m\u001b[0mkwargs\u001b[0m\u001b[0;34m)\u001b[0m\u001b[0;34m\u001b[0m\u001b[0;34m\u001b[0m\u001b[0m\n\u001b[0m\u001b[1;32m   1153\u001b[0m \u001b[0;34m\u001b[0m\u001b[0m\n\u001b[1;32m   1154\u001b[0m         \u001b[0;32mreturn\u001b[0m \u001b[0mwrapper\u001b[0m\u001b[0;34m\u001b[0m\u001b[0;34m\u001b[0m\u001b[0m\n",
      "\u001b[0;32m/usr/local/lib/python3.10/dist-packages/sklearn/svm/_base.py\u001b[0m in \u001b[0;36mfit\u001b[0;34m(self, X, y, sample_weight)\u001b[0m\n\u001b[1;32m    248\u001b[0m \u001b[0;34m\u001b[0m\u001b[0m\n\u001b[1;32m    249\u001b[0m         \u001b[0mseed\u001b[0m \u001b[0;34m=\u001b[0m \u001b[0mrnd\u001b[0m\u001b[0;34m.\u001b[0m\u001b[0mrandint\u001b[0m\u001b[0;34m(\u001b[0m\u001b[0mnp\u001b[0m\u001b[0;34m.\u001b[0m\u001b[0miinfo\u001b[0m\u001b[0;34m(\u001b[0m\u001b[0;34m\"i\"\u001b[0m\u001b[0;34m)\u001b[0m\u001b[0;34m.\u001b[0m\u001b[0mmax\u001b[0m\u001b[0;34m)\u001b[0m\u001b[0;34m\u001b[0m\u001b[0;34m\u001b[0m\u001b[0m\n\u001b[0;32m--> 250\u001b[0;31m         \u001b[0mfit\u001b[0m\u001b[0;34m(\u001b[0m\u001b[0mX\u001b[0m\u001b[0;34m,\u001b[0m \u001b[0my\u001b[0m\u001b[0;34m,\u001b[0m \u001b[0msample_weight\u001b[0m\u001b[0;34m,\u001b[0m \u001b[0msolver_type\u001b[0m\u001b[0;34m,\u001b[0m \u001b[0mkernel\u001b[0m\u001b[0;34m,\u001b[0m \u001b[0mrandom_seed\u001b[0m\u001b[0;34m=\u001b[0m\u001b[0mseed\u001b[0m\u001b[0;34m)\u001b[0m\u001b[0;34m\u001b[0m\u001b[0;34m\u001b[0m\u001b[0m\n\u001b[0m\u001b[1;32m    251\u001b[0m         \u001b[0;31m# see comment on the other call to np.iinfo in this file\u001b[0m\u001b[0;34m\u001b[0m\u001b[0;34m\u001b[0m\u001b[0m\n\u001b[1;32m    252\u001b[0m \u001b[0;34m\u001b[0m\u001b[0m\n",
      "\u001b[0;32m/usr/local/lib/python3.10/dist-packages/sklearn/svm/_base.py\u001b[0m in \u001b[0;36m_dense_fit\u001b[0;34m(self, X, y, sample_weight, solver_type, kernel, random_seed)\u001b[0m\n\u001b[1;32m    327\u001b[0m             \u001b[0mself\u001b[0m\u001b[0;34m.\u001b[0m\u001b[0mfit_status_\u001b[0m\u001b[0;34m,\u001b[0m\u001b[0;34m\u001b[0m\u001b[0;34m\u001b[0m\u001b[0m\n\u001b[1;32m    328\u001b[0m             \u001b[0mself\u001b[0m\u001b[0;34m.\u001b[0m\u001b[0m_num_iter\u001b[0m\u001b[0;34m,\u001b[0m\u001b[0;34m\u001b[0m\u001b[0;34m\u001b[0m\u001b[0m\n\u001b[0;32m--> 329\u001b[0;31m         \u001b[0;34m)\u001b[0m \u001b[0;34m=\u001b[0m \u001b[0mlibsvm\u001b[0m\u001b[0;34m.\u001b[0m\u001b[0mfit\u001b[0m\u001b[0;34m(\u001b[0m\u001b[0;34m\u001b[0m\u001b[0;34m\u001b[0m\u001b[0m\n\u001b[0m\u001b[1;32m    330\u001b[0m             \u001b[0mX\u001b[0m\u001b[0;34m,\u001b[0m\u001b[0;34m\u001b[0m\u001b[0;34m\u001b[0m\u001b[0m\n\u001b[1;32m    331\u001b[0m             \u001b[0my\u001b[0m\u001b[0;34m,\u001b[0m\u001b[0;34m\u001b[0m\u001b[0;34m\u001b[0m\u001b[0m\n",
      "\u001b[0;31mKeyboardInterrupt\u001b[0m: "
     ]
    }
   ],
   "source": [
    "from sklearn.feature_selection import SequentialFeatureSelector\n",
    "# Forward Feature Selection\n",
    "sfs = SequentialFeatureSelector(estimator=svm, n_features_to_select=5, direction='forward')\n",
    "sfs.fit(X_train, y_train)\n",
    "selected_features = sfs.get_support(indices=True) # Selected feature indices"
   ]
  },
  {
   "cell_type": "code",
   "execution_count": 22,
   "id": "D0jqh7AtFc3a",
   "metadata": {
    "colab": {
     "base_uri": "https://localhost:8080/",
     "height": 408
    },
    "executionInfo": {
     "elapsed": 3106,
     "status": "error",
     "timestamp": 1723206216991,
     "user": {
      "displayName": "Guilherme Tavares",
      "userId": "02460284227855401496"
     },
     "user_tz": 180
    },
    "id": "D0jqh7AtFc3a",
    "outputId": "e57eb09a-ad0b-4700-91f7-23f9ee1c28fb"
   },
   "outputs": [
    {
     "ename": "ValueError",
     "evalue": "when `importance_getter=='auto'`, the underlying estimator SVC should have `coef_` or `feature_importances_` attribute. Either pass a fitted estimator to feature selector or call fit before calling transform.",
     "output_type": "error",
     "traceback": [
      "\u001b[0;31m---------------------------------------------------------------------------\u001b[0m",
      "\u001b[0;31mValueError\u001b[0m                                Traceback (most recent call last)",
      "\u001b[0;32m<ipython-input-22-81e32ae25490>\u001b[0m in \u001b[0;36m<cell line: 17>\u001b[0;34m()\u001b[0m\n\u001b[1;32m     15\u001b[0m \u001b[0mselect\u001b[0m \u001b[0;34m=\u001b[0m \u001b[0mSelectFromModel\u001b[0m\u001b[0;34m(\u001b[0m\u001b[0mclf2\u001b[0m\u001b[0;34m,\u001b[0m\u001b[0mthreshold\u001b[0m\u001b[0;34m=\u001b[0m\u001b[0;34m'4.95*median'\u001b[0m\u001b[0;34m)\u001b[0m\u001b[0;34m\u001b[0m\u001b[0;34m\u001b[0m\u001b[0m\n\u001b[1;32m     16\u001b[0m \u001b[0mselect\u001b[0m\u001b[0;34m.\u001b[0m\u001b[0mfit\u001b[0m\u001b[0;34m(\u001b[0m\u001b[0mX_train\u001b[0m\u001b[0;34m,\u001b[0m \u001b[0my_train\u001b[0m\u001b[0;34m)\u001b[0m\u001b[0;34m\u001b[0m\u001b[0;34m\u001b[0m\u001b[0m\n\u001b[0;32m---> 17\u001b[0;31m \u001b[0mX_train_selected\u001b[0m \u001b[0;34m=\u001b[0m \u001b[0mselect\u001b[0m\u001b[0;34m.\u001b[0m\u001b[0mtransform\u001b[0m\u001b[0;34m(\u001b[0m\u001b[0mX_train\u001b[0m\u001b[0;34m)\u001b[0m\u001b[0;34m\u001b[0m\u001b[0;34m\u001b[0m\u001b[0m\n\u001b[0m\u001b[1;32m     18\u001b[0m \u001b[0mprint\u001b[0m\u001b[0;34m(\u001b[0m\u001b[0;34m\"Original Feature set\"\u001b[0m\u001b[0;34m,\u001b[0m \u001b[0mX_train\u001b[0m\u001b[0;34m.\u001b[0m\u001b[0mshape\u001b[0m\u001b[0;34m)\u001b[0m\u001b[0;34m\u001b[0m\u001b[0;34m\u001b[0m\u001b[0m\n\u001b[1;32m     19\u001b[0m \u001b[0mprint\u001b[0m\u001b[0;34m(\u001b[0m\u001b[0;34m\"subset of Features\"\u001b[0m\u001b[0;34m,\u001b[0m \u001b[0mX_train_selected\u001b[0m\u001b[0;34m.\u001b[0m\u001b[0mshape\u001b[0m\u001b[0;34m)\u001b[0m\u001b[0;34m\u001b[0m\u001b[0;34m\u001b[0m\u001b[0m\n",
      "\u001b[0;32m/usr/local/lib/python3.10/dist-packages/sklearn/utils/_set_output.py\u001b[0m in \u001b[0;36mwrapped\u001b[0;34m(self, X, *args, **kwargs)\u001b[0m\n\u001b[1;32m    155\u001b[0m     \u001b[0;34m@\u001b[0m\u001b[0mwraps\u001b[0m\u001b[0;34m(\u001b[0m\u001b[0mf\u001b[0m\u001b[0;34m)\u001b[0m\u001b[0;34m\u001b[0m\u001b[0;34m\u001b[0m\u001b[0m\n\u001b[1;32m    156\u001b[0m     \u001b[0;32mdef\u001b[0m \u001b[0mwrapped\u001b[0m\u001b[0;34m(\u001b[0m\u001b[0mself\u001b[0m\u001b[0;34m,\u001b[0m \u001b[0mX\u001b[0m\u001b[0;34m,\u001b[0m \u001b[0;34m*\u001b[0m\u001b[0margs\u001b[0m\u001b[0;34m,\u001b[0m \u001b[0;34m**\u001b[0m\u001b[0mkwargs\u001b[0m\u001b[0;34m)\u001b[0m\u001b[0;34m:\u001b[0m\u001b[0;34m\u001b[0m\u001b[0;34m\u001b[0m\u001b[0m\n\u001b[0;32m--> 157\u001b[0;31m         \u001b[0mdata_to_wrap\u001b[0m \u001b[0;34m=\u001b[0m \u001b[0mf\u001b[0m\u001b[0;34m(\u001b[0m\u001b[0mself\u001b[0m\u001b[0;34m,\u001b[0m \u001b[0mX\u001b[0m\u001b[0;34m,\u001b[0m \u001b[0;34m*\u001b[0m\u001b[0margs\u001b[0m\u001b[0;34m,\u001b[0m \u001b[0;34m**\u001b[0m\u001b[0mkwargs\u001b[0m\u001b[0;34m)\u001b[0m\u001b[0;34m\u001b[0m\u001b[0;34m\u001b[0m\u001b[0m\n\u001b[0m\u001b[1;32m    158\u001b[0m         \u001b[0;32mif\u001b[0m \u001b[0misinstance\u001b[0m\u001b[0;34m(\u001b[0m\u001b[0mdata_to_wrap\u001b[0m\u001b[0;34m,\u001b[0m \u001b[0mtuple\u001b[0m\u001b[0;34m)\u001b[0m\u001b[0;34m:\u001b[0m\u001b[0;34m\u001b[0m\u001b[0;34m\u001b[0m\u001b[0m\n\u001b[1;32m    159\u001b[0m             \u001b[0;31m# only wrap the first output for cross decomposition\u001b[0m\u001b[0;34m\u001b[0m\u001b[0;34m\u001b[0m\u001b[0m\n",
      "\u001b[0;32m/usr/local/lib/python3.10/dist-packages/sklearn/feature_selection/_base.py\u001b[0m in \u001b[0;36mtransform\u001b[0;34m(self, X)\u001b[0m\n\u001b[1;32m     94\u001b[0m             \u001b[0mreset\u001b[0m\u001b[0;34m=\u001b[0m\u001b[0;32mFalse\u001b[0m\u001b[0;34m,\u001b[0m\u001b[0;34m\u001b[0m\u001b[0;34m\u001b[0m\u001b[0m\n\u001b[1;32m     95\u001b[0m         )\n\u001b[0;32m---> 96\u001b[0;31m         \u001b[0;32mreturn\u001b[0m \u001b[0mself\u001b[0m\u001b[0;34m.\u001b[0m\u001b[0m_transform\u001b[0m\u001b[0;34m(\u001b[0m\u001b[0mX\u001b[0m\u001b[0;34m)\u001b[0m\u001b[0;34m\u001b[0m\u001b[0;34m\u001b[0m\u001b[0m\n\u001b[0m\u001b[1;32m     97\u001b[0m \u001b[0;34m\u001b[0m\u001b[0m\n\u001b[1;32m     98\u001b[0m     \u001b[0;32mdef\u001b[0m \u001b[0m_transform\u001b[0m\u001b[0;34m(\u001b[0m\u001b[0mself\u001b[0m\u001b[0;34m,\u001b[0m \u001b[0mX\u001b[0m\u001b[0;34m)\u001b[0m\u001b[0;34m:\u001b[0m\u001b[0;34m\u001b[0m\u001b[0;34m\u001b[0m\u001b[0m\n",
      "\u001b[0;32m/usr/local/lib/python3.10/dist-packages/sklearn/feature_selection/_base.py\u001b[0m in \u001b[0;36m_transform\u001b[0;34m(self, X)\u001b[0m\n\u001b[1;32m     98\u001b[0m     \u001b[0;32mdef\u001b[0m \u001b[0m_transform\u001b[0m\u001b[0;34m(\u001b[0m\u001b[0mself\u001b[0m\u001b[0;34m,\u001b[0m \u001b[0mX\u001b[0m\u001b[0;34m)\u001b[0m\u001b[0;34m:\u001b[0m\u001b[0;34m\u001b[0m\u001b[0;34m\u001b[0m\u001b[0m\n\u001b[1;32m     99\u001b[0m         \u001b[0;34m\"\"\"Reduce X to the selected features.\"\"\"\u001b[0m\u001b[0;34m\u001b[0m\u001b[0;34m\u001b[0m\u001b[0m\n\u001b[0;32m--> 100\u001b[0;31m         \u001b[0mmask\u001b[0m \u001b[0;34m=\u001b[0m \u001b[0mself\u001b[0m\u001b[0;34m.\u001b[0m\u001b[0mget_support\u001b[0m\u001b[0;34m(\u001b[0m\u001b[0;34m)\u001b[0m\u001b[0;34m\u001b[0m\u001b[0;34m\u001b[0m\u001b[0m\n\u001b[0m\u001b[1;32m    101\u001b[0m         \u001b[0;32mif\u001b[0m \u001b[0;32mnot\u001b[0m \u001b[0mmask\u001b[0m\u001b[0;34m.\u001b[0m\u001b[0many\u001b[0m\u001b[0;34m(\u001b[0m\u001b[0;34m)\u001b[0m\u001b[0;34m:\u001b[0m\u001b[0;34m\u001b[0m\u001b[0;34m\u001b[0m\u001b[0m\n\u001b[1;32m    102\u001b[0m             warnings.warn(\n",
      "\u001b[0;32m/usr/local/lib/python3.10/dist-packages/sklearn/feature_selection/_base.py\u001b[0m in \u001b[0;36mget_support\u001b[0;34m(self, indices)\u001b[0m\n\u001b[1;32m     51\u001b[0m             \u001b[0mvalues\u001b[0m \u001b[0mare\u001b[0m \u001b[0mindices\u001b[0m \u001b[0minto\u001b[0m \u001b[0mthe\u001b[0m \u001b[0minput\u001b[0m \u001b[0mfeature\u001b[0m \u001b[0mvector\u001b[0m\u001b[0;34m.\u001b[0m\u001b[0;34m\u001b[0m\u001b[0;34m\u001b[0m\u001b[0m\n\u001b[1;32m     52\u001b[0m         \"\"\"\n\u001b[0;32m---> 53\u001b[0;31m         \u001b[0mmask\u001b[0m \u001b[0;34m=\u001b[0m \u001b[0mself\u001b[0m\u001b[0;34m.\u001b[0m\u001b[0m_get_support_mask\u001b[0m\u001b[0;34m(\u001b[0m\u001b[0;34m)\u001b[0m\u001b[0;34m\u001b[0m\u001b[0;34m\u001b[0m\u001b[0m\n\u001b[0m\u001b[1;32m     54\u001b[0m         \u001b[0;32mreturn\u001b[0m \u001b[0mmask\u001b[0m \u001b[0;32mif\u001b[0m \u001b[0;32mnot\u001b[0m \u001b[0mindices\u001b[0m \u001b[0;32melse\u001b[0m \u001b[0mnp\u001b[0m\u001b[0;34m.\u001b[0m\u001b[0mwhere\u001b[0m\u001b[0;34m(\u001b[0m\u001b[0mmask\u001b[0m\u001b[0;34m)\u001b[0m\u001b[0;34m[\u001b[0m\u001b[0;36m0\u001b[0m\u001b[0;34m]\u001b[0m\u001b[0;34m\u001b[0m\u001b[0;34m\u001b[0m\u001b[0m\n\u001b[1;32m     55\u001b[0m \u001b[0;34m\u001b[0m\u001b[0m\n",
      "\u001b[0;32m/usr/local/lib/python3.10/dist-packages/sklearn/feature_selection/_from_model.py\u001b[0m in \u001b[0;36m_get_support_mask\u001b[0;34m(self)\u001b[0m\n\u001b[1;32m    285\u001b[0m             )\n\u001b[1;32m    286\u001b[0m \u001b[0;34m\u001b[0m\u001b[0m\n\u001b[0;32m--> 287\u001b[0;31m         scores = _get_feature_importances(\n\u001b[0m\u001b[1;32m    288\u001b[0m             \u001b[0mestimator\u001b[0m\u001b[0;34m=\u001b[0m\u001b[0mestimator\u001b[0m\u001b[0;34m,\u001b[0m\u001b[0;34m\u001b[0m\u001b[0;34m\u001b[0m\u001b[0m\n\u001b[1;32m    289\u001b[0m             \u001b[0mgetter\u001b[0m\u001b[0;34m=\u001b[0m\u001b[0mself\u001b[0m\u001b[0;34m.\u001b[0m\u001b[0mimportance_getter\u001b[0m\u001b[0;34m,\u001b[0m\u001b[0;34m\u001b[0m\u001b[0;34m\u001b[0m\u001b[0m\n",
      "\u001b[0;32m/usr/local/lib/python3.10/dist-packages/sklearn/feature_selection/_base.py\u001b[0m in \u001b[0;36m_get_feature_importances\u001b[0;34m(estimator, getter, transform_func, norm_order)\u001b[0m\n\u001b[1;32m    212\u001b[0m                 \u001b[0mgetter\u001b[0m \u001b[0;34m=\u001b[0m \u001b[0mattrgetter\u001b[0m\u001b[0;34m(\u001b[0m\u001b[0;34m\"feature_importances_\"\u001b[0m\u001b[0;34m)\u001b[0m\u001b[0;34m\u001b[0m\u001b[0;34m\u001b[0m\u001b[0m\n\u001b[1;32m    213\u001b[0m             \u001b[0;32melse\u001b[0m\u001b[0;34m:\u001b[0m\u001b[0;34m\u001b[0m\u001b[0;34m\u001b[0m\u001b[0m\n\u001b[0;32m--> 214\u001b[0;31m                 raise ValueError(\n\u001b[0m\u001b[1;32m    215\u001b[0m                     \u001b[0;34m\"when `importance_getter=='auto'`, the underlying \"\u001b[0m\u001b[0;34m\u001b[0m\u001b[0;34m\u001b[0m\u001b[0m\n\u001b[1;32m    216\u001b[0m                     \u001b[0;34mf\"estimator {estimator.__class__.__name__} should have \"\u001b[0m\u001b[0;34m\u001b[0m\u001b[0;34m\u001b[0m\u001b[0m\n",
      "\u001b[0;31mValueError\u001b[0m: when `importance_getter=='auto'`, the underlying estimator SVC should have `coef_` or `feature_importances_` attribute. Either pass a fitted estimator to feature selector or call fit before calling transform."
     ]
    }
   ],
   "source": [
    "import xgboost as xgb\n",
    "#clf2 = LogisticRegression(C=1.e-02,penalty=\"l2\")\n",
    "#clf2 = LogisticRegression(C=1.e-02,penalty=\"l2\", solver=\"liblinear\")\n",
    "clf2 = SVC(C=1000, gamma=0.0001, kernel='rbf')\n",
    "\n",
    "scaler = StandardScaler()\n",
    "\n",
    "\n",
    "X = final_df2_part.drop(['EEG_condition'], axis=1)\n",
    "y = final_df2_part['EEG_condition'].values\n",
    "\n",
    "X = scaler.fit_transform(X)\n",
    "X_train, X_test, y_train, y_test = train_test_split(X, y, test_size=0.25, random_state=42, shuffle=True)\n",
    "\n",
    "select = SelectFromModel(clf2,threshold='4.95*median')\n",
    "select.fit(X_train, y_train)\n",
    "X_train_selected = select.transform(X_train)\n",
    "print(\"Original Feature set\", X_train.shape)\n",
    "print(\"subset of Features\", X_train_selected.shape)\n",
    "\n",
    "clf2.fit(X_train, y_train)\n",
    "print(\"Accuracy on training set is : {}\".format(clf2.score(X_train, y_train)))\n",
    "print(\"Accuracy on test set is : {}\".format(clf2.score(X_test, y_test)))\n",
    "Y_test_pred = clf2.predict(X_test)\n",
    "print(classification_report(y_test, Y_test_pred))\n",
    "\n",
    "x_valid_normal = valid_final_part.drop(['EEG_condition'], axis=1)\n",
    "x_valid_normal = scaler.fit_transform(x_valid_normal)\n",
    "y_valid = valid_final_part['EEG_condition'].values\n",
    "Y_val_pred = clf2.predict(x_valid_normal)\n",
    "print(\"Accuracy on validation set is : {}\".format(clf2.score(x_valid_normal, y_valid)))\n",
    "print(classification_report(y_valid, Y_val_pred))\n",
    "\n",
    "clf2.fit(X_train_selected, y_train)\n",
    "print(\"Accuracy AFTER FS on training set is : {}\".format(clf2.score(X_train_selected, y_train)))\n",
    "#print(\"Accuracy AFTER FS on test set is : {}\".format(clf2.score(X_test, y_test)))\n",
    "#Y_test_pred = clf2.predict(X_test)\n",
    "#print(classification_report(y_test, Y_test_pred))\n",
    "print(select.get_support(indices=True))\n",
    "pos = select.get_support(indices=True)\n",
    "colname = final_df2_part.columns[pos]\n",
    "print(\"Feature names: \",colname)\n",
    "x = colname\n",
    "x = list(x)\n",
    "set_column(x)"
   ]
  },
  {
   "cell_type": "code",
   "execution_count": null,
   "id": "toQ6xlzLSveS",
   "metadata": {
    "id": "toQ6xlzLSveS"
   },
   "outputs": [],
   "source": [
    "X = final_df2_part.drop(['EEG_condition'], axis=1)\n",
    "X = final_df2_part[].copy()\n",
    "y = final_df2_part['EEG_condition'].values\n",
    "\n",
    "X = scaler.fit_transform(X)\n",
    "X_train, X_test, y_train, y_test = train_test_split(X, y, test_size=0.25, random_state=42, shuffle=True)"
   ]
  },
  {
   "cell_type": "code",
   "execution_count": null,
   "id": "dXvO6Q3v_ul8",
   "metadata": {
    "colab": {
     "base_uri": "https://localhost:8080/",
     "height": 367
    },
    "executionInfo": {
     "elapsed": 639986,
     "status": "error",
     "timestamp": 1723126245925,
     "user": {
      "displayName": "Guilherme Tavares",
      "userId": "02460284227855401496"
     },
     "user_tz": 180
    },
    "id": "dXvO6Q3v_ul8",
    "outputId": "e4392e80-587e-4054-a89c-3930e815788a"
   },
   "outputs": [
    {
     "name": "stderr",
     "output_type": "stream",
     "text": [
      "[Parallel(n_jobs=100)]: Using backend LokyBackend with 100 concurrent workers.\n",
      "[Parallel(n_jobs=100)]: Done 165 tasks      | elapsed:  1.7min\n",
      "[Parallel(n_jobs=100)]: Done 448 tasks      | elapsed:  4.4min\n",
      "[Parallel(n_jobs=100)]: Done 820 out of 820 | elapsed:  7.3min finished\n",
      "\n",
      "[2024-08-08 14:07:24] Features: 819/810 -- score: 0.828052882473492[Parallel(n_jobs=100)]: Using backend LokyBackend with 100 concurrent workers.\n",
      "[Parallel(n_jobs=100)]: Done 165 tasks      | elapsed:  1.8min\n",
      "\n",
      "STOPPING EARLY DUE TO KEYBOARD INTERRUPT..."
     ]
    },
    {
     "ename": "TypeError",
     "evalue": "must be real number, not NoneType",
     "output_type": "error",
     "traceback": [
      "\u001b[0;31m---------------------------------------------------------------------------\u001b[0m",
      "\u001b[0;31mTypeError\u001b[0m                                 Traceback (most recent call last)",
      "\u001b[0;32m<ipython-input-20-7c88278e23d0>\u001b[0m in \u001b[0;36m<cell line: 16>\u001b[0;34m()\u001b[0m\n\u001b[1;32m     14\u001b[0m \u001b[0;34m\u001b[0m\u001b[0m\n\u001b[1;32m     15\u001b[0m \u001b[0msbfs\u001b[0m \u001b[0;34m=\u001b[0m \u001b[0msbfs\u001b[0m\u001b[0;34m.\u001b[0m\u001b[0mfit\u001b[0m\u001b[0;34m(\u001b[0m\u001b[0mX_train\u001b[0m\u001b[0;34m,\u001b[0m \u001b[0my_train\u001b[0m\u001b[0;34m)\u001b[0m\u001b[0;34m\u001b[0m\u001b[0;34m\u001b[0m\u001b[0m\n\u001b[0;32m---> 16\u001b[0;31m \u001b[0mprint\u001b[0m\u001b[0;34m(\u001b[0m\u001b[0;34m'Best accuracy score: %.2f'\u001b[0m \u001b[0;34m%\u001b[0m \u001b[0msbfs\u001b[0m\u001b[0;34m.\u001b[0m\u001b[0mk_score_\u001b[0m\u001b[0;34m)\u001b[0m\u001b[0;34m\u001b[0m\u001b[0;34m\u001b[0m\u001b[0m\n\u001b[0m\u001b[1;32m     17\u001b[0m \u001b[0mprint\u001b[0m\u001b[0;34m(\u001b[0m\u001b[0;34m'Best subset (indices):'\u001b[0m\u001b[0;34m,\u001b[0m \u001b[0msbfs\u001b[0m\u001b[0;34m.\u001b[0m\u001b[0mk_feature_idx_\u001b[0m\u001b[0;34m)\u001b[0m\u001b[0;34m\u001b[0m\u001b[0;34m\u001b[0m\u001b[0m\n\u001b[1;32m     18\u001b[0m \u001b[0mprint\u001b[0m\u001b[0;34m(\u001b[0m\u001b[0;34m'Best subset (corresponding names):'\u001b[0m\u001b[0;34m,\u001b[0m \u001b[0msbfs\u001b[0m\u001b[0;34m.\u001b[0m\u001b[0mk_feature_names_\u001b[0m\u001b[0;34m)\u001b[0m\u001b[0;34m\u001b[0m\u001b[0;34m\u001b[0m\u001b[0m\n",
      "\u001b[0;31mTypeError\u001b[0m: must be real number, not NoneType"
     ]
    }
   ],
   "source": [
    "from mlxtend.feature_selection import SequentialFeatureSelector as SFS\n",
    "from sklearn.linear_model import LogisticRegression\n",
    "\n",
    "model = LogisticRegression(C=1.e-02,penalty=\"l2\", solver=\"newton-cg\")\n",
    "\n",
    "sbfs = SFS(model,\n",
    "           k_features=10,\n",
    "           forward=False,\n",
    "           floating=True,\n",
    "           verbose=2,\n",
    "           scoring='accuracy',\n",
    "           cv=4,\n",
    "           n_jobs=100)\n",
    "\n",
    "sbfs = sbfs.fit(X_train, y_train)\n",
    "print('Best accuracy score: %.2f' % sbfs.k_score_)\n",
    "print('Best subset (indices):', sbfs.k_feature_idx_)\n",
    "print('Best subset (corresponding names):', sbfs.k_feature_names_)"
   ]
  },
  {
   "cell_type": "code",
   "execution_count": null,
   "id": "pAIu6tccGsHG",
   "metadata": {
    "colab": {
     "base_uri": "https://localhost:8080/"
    },
    "executionInfo": {
     "elapsed": 19,
     "status": "ok",
     "timestamp": 1723043815198,
     "user": {
      "displayName": "Guilherme Tavares",
      "userId": "02460284227855401496"
     },
     "user_tz": 180
    },
    "id": "pAIu6tccGsHG",
    "outputId": "76ee7383-184e-42e1-f746-22a2e48a7b9c"
   },
   "outputs": [
    {
     "name": "stdout",
     "output_type": "stream",
     "text": [
      "(0, 1, 2, 3, 4, 5, 6, 7, 8, 9, 10, 11, 12, 13, 14, 15, 16, 17, 18, 19, 20, 21, 22, 23, 24, 25, 26, 27, 28, 29, 30, 31, 32, 33, 34, 35, 36, 37, 38, 39, 40, 41, 42, 43, 44, 45, 46, 47, 48, 49, 50, 51, 52, 53, 54, 55, 56, 57, 58, 59, 60, 61, 62, 63, 64, 65, 66, 67, 68, 69, 70, 71, 72, 73, 74, 75, 76, 77, 78, 79, 80, 81, 82, 83, 84, 85, 86, 87, 88, 89, 90, 91, 92, 93, 94, 95, 96, 97, 98, 99, 100, 101, 102, 103, 104, 105, 106, 107, 108, 109, 110, 111, 112, 113, 114, 115, 116, 117, 118, 119, 120, 121, 122, 123, 124, 125, 126, 127, 128, 129, 130, 131, 132, 133, 134, 135, 136, 137, 138, 139, 140, 141, 142, 143, 144, 145, 146, 147, 148, 149, 150, 151, 152, 153, 154, 155, 156, 157, 158, 159, 160, 161, 162, 163, 164, 165, 166, 167, 168, 169, 170, 171, 172, 173, 174, 175, 176, 177, 178, 179, 180, 181, 182, 183, 184, 185, 186, 187, 188, 189, 190, 191, 192, 193, 194, 195, 196, 197, 198, 199, 200, 201, 202, 203, 204, 205, 206, 207, 208, 209, 210, 211, 212, 213, 214, 215, 216, 217, 218, 219, 220, 221, 222, 223, 224, 225, 226, 227, 228, 229, 230, 231, 232, 233, 234, 235, 236, 237, 238, 239, 240, 241, 242, 243, 244, 245, 246, 247, 248, 249, 250, 251, 252, 253, 254, 255, 256, 257, 258, 259, 260, 261, 262, 263, 264, 265, 266, 267, 268, 269, 270, 271, 272, 273, 274, 275, 276, 277, 278, 279, 280, 281, 282, 283, 284, 285, 286, 287, 288, 289, 290, 291, 292, 293, 294, 295, 296, 297, 298, 299, 300, 301, 302, 303, 304, 305, 306, 307, 308, 309, 310, 311, 312, 313, 314, 315, 316, 317, 318, 319, 320, 321, 322, 323, 324, 325, 326, 327, 328, 329, 330, 331, 332, 333, 334, 335, 336, 337, 338, 339, 340, 341, 342, 343, 344, 345, 346, 347, 348, 349, 350, 351, 352, 353, 354, 355, 356, 357, 358, 359, 360, 361, 362, 363, 364, 365, 366, 367, 368, 369, 370, 371, 372, 373, 374, 375, 376, 377, 378, 379, 380, 381, 382, 383, 384, 385, 386, 387, 388, 389, 390, 391, 392, 393, 394, 395, 396, 397, 398, 399, 400, 401, 402, 403, 404, 405, 406, 407, 408, 409, 410, 411, 412, 413, 414, 415, 416, 417, 418, 419, 420, 421, 422, 423, 424, 425, 426, 427, 428, 429, 430, 431, 432, 433, 434, 435, 436, 437, 438, 439, 440, 441, 442, 443, 444, 445, 446, 447, 448, 449, 450, 451, 452, 453, 454, 455, 456, 457, 458, 459, 460, 461, 462, 463, 464, 465, 466, 467, 468, 469, 470, 471, 472, 473, 474, 475, 476, 477, 478, 479, 480, 481, 482, 483, 484, 485, 486, 487, 488, 489, 490, 491, 492, 493, 494, 495, 496, 497, 498, 499, 500, 501, 502, 503, 504, 505, 506, 507, 508, 509, 510, 511, 512, 513, 514, 515, 516, 517, 518, 519, 520, 521, 522, 523, 524, 525, 526, 527, 528, 529, 530, 531, 532, 533, 534, 535, 536, 537, 538, 539, 540, 541, 542, 543, 544, 545, 546, 547, 548, 549, 550, 551, 552, 553, 554, 555, 556, 557, 558, 559, 560, 561, 562, 563, 564, 565, 566, 567, 568, 569, 570, 571, 572, 573, 574, 575, 576, 577, 578, 579, 580, 581, 582, 583, 584, 585, 586, 587, 588, 589, 590, 591, 592, 593, 594, 595, 596, 597, 598, 599, 600, 601, 602, 603, 604, 605, 606, 607, 608, 609, 610, 611, 612, 613, 614, 615, 616, 617, 618, 619, 620, 621, 622, 623, 624, 625, 626, 627, 628, 629, 630, 631, 632, 633, 634, 635, 636, 637, 638, 639, 640, 641, 642, 643, 644, 645, 646, 647, 648, 649, 650, 651, 652, 653, 654, 655, 656, 657, 658, 659, 660, 661, 662, 663, 664, 665, 666, 667, 668, 669, 670, 671, 672, 673, 674, 675, 676, 677, 678, 679, 680, 681, 682, 683, 684, 685, 686, 687, 688, 689, 690, 691, 692, 693, 694, 695, 696, 697, 698, 699, 700, 701, 702, 703, 704, 705, 706, 707, 708, 709, 710, 711, 712, 713, 714, 715, 716, 717, 718, 719, 720, 721, 722, 723, 724, 725, 726, 727, 728, 729, 730, 731, 732, 733, 734, 735, 736, 737, 738, 739, 740, 741, 742, 743, 744, 745, 746, 747, 748, 749, 750, 751, 752, 753, 754, 755, 756, 757, 758, 759, 760, 761, 762, 763, 764, 765, 766, 767, 768, 769, 770, 771, 772, 773, 774, 775, 776, 777, 778, 779, 780, 781, 782, 783, 784, 785, 786, 787, 788, 789, 790, 791, 792, 793, 794, 795, 796, 797, 798, 799, 800, 801, 802, 803, 804, 805, 806, 807, 808, 809, 810, 811, 812, 813, 814, 815, 816, 817, 818, 819)\n",
      "0.8453311704428605\n"
     ]
    }
   ],
   "source": [
    "print(sbfs.k_feature_idx_)\n",
    "print(sbfs.k_score_)\n",
    "print('Best subset (corresponding names):', sbfs.k_feature_names_)\n"
   ]
  },
  {
   "cell_type": "code",
   "execution_count": null,
   "id": "YRYtZV7BGsP5",
   "metadata": {
    "id": "YRYtZV7BGsP5"
   },
   "outputs": [],
   "source": []
  },
  {
   "cell_type": "code",
   "execution_count": null,
   "id": "oPvFFclDzx4i",
   "metadata": {
    "colab": {
     "base_uri": "https://localhost:8080/"
    },
    "executionInfo": {
     "elapsed": 108775,
     "status": "ok",
     "timestamp": 1723127001794,
     "user": {
      "displayName": "Guilherme Tavares",
      "userId": "02460284227855401496"
     },
     "user_tz": 180
    },
    "id": "oPvFFclDzx4i",
    "outputId": "1f1d45de-eda9-496f-eafb-56558d131975"
   },
   "outputs": [
    {
     "name": "stdout",
     "output_type": "stream",
     "text": [
      "Original Feature set (4641, 820)\n",
      "subset of Features (4641, 72)\n",
      "CV accuracy BEFORE FS: 0.828 +/- 0.014\n",
      "[[893   7  16   9  10]\n",
      " [ 72 738  61  39  33]\n",
      " [ 42  88 708  40  33]\n",
      " [ 24  73  62 745  29]\n",
      " [ 32  30  34  47 776]]\n",
      "              precision    recall  f1-score   support\n",
      "\n",
      "           0       0.84      0.96      0.89       935\n",
      "           1       0.79      0.78      0.79       943\n",
      "           2       0.80      0.78      0.79       911\n",
      "           3       0.85      0.80      0.82       933\n",
      "           4       0.88      0.84      0.86       919\n",
      "\n",
      "    accuracy                           0.83      4641\n",
      "   macro avg       0.83      0.83      0.83      4641\n",
      "weighted avg       0.83      0.83      0.83      4641\n",
      "\n",
      "Accuracy with CV on validation set is : 0.8597285067873304\n",
      "              precision    recall  f1-score   support\n",
      "\n",
      "           0       0.87      0.93      0.90       315\n",
      "           1       0.85      0.86      0.86       321\n",
      "           2       0.79      0.84      0.81       310\n",
      "           3       0.88      0.81      0.84       304\n",
      "           4       0.91      0.87      0.89       297\n",
      "\n",
      "    accuracy                           0.86      1547\n",
      "   macro avg       0.86      0.86      0.86      1547\n",
      "weighted avg       0.86      0.86      0.86      1547\n",
      "\n",
      "CV accuracy AFTER FS: 0.611 +/- 0.013\n",
      "[[715 100  83  18  19]\n",
      " [136 575  96  49  87]\n",
      " [ 75 133 542 101  60]\n",
      " [125 144 123 445  96]\n",
      " [ 53 102 118  98 548]]\n",
      "              precision    recall  f1-score   support\n",
      "\n",
      "           0       0.65      0.76      0.70       935\n",
      "           1       0.55      0.61      0.58       943\n",
      "           2       0.56      0.59      0.58       911\n",
      "           3       0.63      0.48      0.54       933\n",
      "           4       0.68      0.60      0.63       919\n",
      "\n",
      "    accuracy                           0.61      4641\n",
      "   macro avg       0.61      0.61      0.61      4641\n",
      "weighted avg       0.61      0.61      0.61      4641\n",
      "\n",
      "NUMBER OF SELECTED FEATURES: 72\n",
      "[ 11  35  61  76  87  98 102 117 165 169 208 219 256 260 269 273 298 299\n",
      " 308 321 323 324 334 359 373 381 386 388 389 390 399 401 421 422 423 466\n",
      " 476 477 490 492 493 494 503 504 505 506 514 517 534 545 550 552 554 557\n",
      " 560 566 567 570 589 622 635 710 752 764 765 767 778 791 802 803 804 814]\n",
      "Feature names:  Index(['average_value_FC5', 'Gamma_FC1', 'Gamma_FC2', 'average_value_FC4',\n",
      "       'Gamma_FC6', 'Mid_Beta_C5', 'average_value_C5', '25_perc_value_C3',\n",
      "       'Gamma_C4', '25_perc_value_C4', '25_perc_value_CP3',\n",
      "       'average_value_CP1', 'Gamma_CP4', '25_perc_value_CP4', 'Gamma_CP6',\n",
      "       '25_perc_value_CP6', 'std_value_Fpz', '25_perc_value_Fpz', 'Gamma_Fp2',\n",
      "       'Gamma_AF7', 'average_value_AF7', 'std_value_AF7', 'Gamma_AF3',\n",
      "       'High_Beta_AF4', 'Gamma_AF8', 'Low_AlphaF7', 'Gamma_F7',\n",
      "       'average_value_F7', 'std_value_F7', '25_perc_value_F7', 'Gamma_F5',\n",
      "       'average_value_F5', 'High_Alpha_F1', 'Low_Beta_F1', 'Mid_Beta_F1',\n",
      "       'average_value_F4', 'High_Beta_F6', 'Gamma_F6', 'Gamma_F8',\n",
      "       'average_value_F8', 'std_value_F8', '25_perc_value_F8', 'Gamma_FT7',\n",
      "       'median_Value_FT7', 'average_value_FT7', 'std_value_FT7',\n",
      "       'Mid_Beta_FT8', 'median_Value_FT8', '75_perc_T7', 'std_value_T8',\n",
      "       'Low_AlphaT9', 'Low_Beta_T9', 'High_Beta_T9', 'average_value_T9',\n",
      "       '75_perc_T9', 'Mid_Beta_T10', 'High_Beta_T10', 'average_value_T10',\n",
      "       'Low_AlphaTP8', 'average_value_P5', 'average_value_P3', 'High_Beta_P8',\n",
      "       'average_value_POz', 'median_Value_PO4', 'average_value_PO4',\n",
      "       '25_perc_value_PO4', 'average_value_PO8', 'average_value_O1',\n",
      "       'Gamma_Oz', 'median_Value_Oz', 'average_value_Oz', 'High_Beta_O2'],\n",
      "      dtype='object')\n"
     ]
    }
   ],
   "source": [
    "select = SelectFromModel(LogisticRegression(C=1.e-02,penalty=\"l2\", solver=\"newton-cg\"), threshold='2.05*median')\n",
    "select.fit(X_train, y_train)\n",
    "X_train_selected = select.transform(X_train)\n",
    "print(\"Original Feature set\", X_train.shape)\n",
    "print(\"subset of Features\", X_train_selected.shape)\n",
    "\n",
    "# Assess model performance BEFORE FS\n",
    "lr1 = LogisticRegression(C=1.e-02,penalty=\"l2\", solver=\"newton-cg\")\n",
    "lr1.fit(X_train, y_train)\n",
    "score1 = cross_val_score(lr1, X_train, y_train, scoring='accuracy', cv=KFold(shuffle=True))\n",
    "\n",
    "y_pred = cross_val_predict(lr1, X_train, y_train, cv=KFold(shuffle=True))\n",
    "conf_mat = confusion_matrix(y_train, y_pred)\n",
    "print('CV accuracy BEFORE FS: %.3f +/- %.3f' % (np.mean(score1), np.std(score1)))\n",
    "print(conf_mat)\n",
    "print(classification_report(y_train, y_pred))\n",
    "\n",
    "x_valid_normal = valid_final_part.drop(['EEG_condition'], axis=1)\n",
    "x_valid_normal = scaler.fit_transform(x_valid_normal)\n",
    "y_valid = valid_final_part['EEG_condition'].values\n",
    "Y_val_pred = lr1.predict(x_valid_normal)\n",
    "print(\"Accuracy with CV on validation set is : {}\".format(lr1.score(x_valid_normal, y_valid)))\n",
    "print(classification_report(y_valid, Y_val_pred))\n",
    "\n",
    "# Assess model performance AFTER FS\n",
    "lr = LogisticRegression(C=1.e-02,penalty=\"l2\", solver=\"newton-cg\")\n",
    "lr.fit(X_train_selected, y_train)\n",
    "strat_kfold = StratifiedKFold(10, random_state=7, shuffle=True)\n",
    "score = cross_val_score(lr, X_train_selected, y_train, scoring='accuracy', cv=KFold(shuffle=True))\n",
    "\n",
    "y_pred = cross_val_predict(lr, X_train_selected, y_train, cv=KFold(shuffle=True))\n",
    "conf_mat = confusion_matrix(y_train, y_pred)\n",
    "\n",
    "print('CV accuracy AFTER FS: %.3f +/- %.3f' % (np.mean(score), np.std(score)))\n",
    "print(conf_mat)\n",
    "print(classification_report(y_train, y_pred))\n",
    "print(\"NUMBER OF SELECTED FEATURES:\", len(select.get_support(indices=True)))\n",
    "# Get features\n",
    "print(select.get_support(indices=True))\n",
    "pos = select.get_support(indices=True)\n",
    "colname = final_df2_part.columns[pos]\n",
    "print(\"Feature names: \",colname)"
   ]
  },
  {
   "cell_type": "code",
   "execution_count": null,
   "id": "C5YffIvIK2v9",
   "metadata": {
    "colab": {
     "base_uri": "https://localhost:8080/"
    },
    "executionInfo": {
     "elapsed": 19,
     "status": "ok",
     "timestamp": 1723127001795,
     "user": {
      "displayName": "Guilherme Tavares",
      "userId": "02460284227855401496"
     },
     "user_tz": 180
    },
    "id": "C5YffIvIK2v9",
    "outputId": "fe90527e-013b-4c82-b31a-6a98f0b48b2b"
   },
   "outputs": [
    {
     "name": "stdout",
     "output_type": "stream",
     "text": [
      "Channels and quantity of channels:\n",
      "{'F1', 'C3', 'P5', 'POz', 'FC5', 'T7', 'Fp2', 'T9', 'FC6', 'CP1', 'AF7', 'FC2', 'C5', 'PO4', 'CP6', 'FT8', 'T8', 'Oz', 'T10', 'F7', 'F4', 'F6', 'F5', 'PO8', 'AF3', 'C4', 'CP3', 'TP8', 'AF8', 'F8', 'O2', 'P3', 'CP4', 'AF4', 'FC1', 'FC4', 'Fpz', 'FT7', 'P8', 'O1'}\n"
     ]
    },
    {
     "data": {
      "text/plain": [
       "40"
      ]
     },
     "execution_count": 34,
     "metadata": {},
     "output_type": "execute_result"
    }
   ],
   "source": [
    "x = colname\n",
    "x = list(x)\n",
    "# Replacing items using enumerate()\n",
    "for index, value in enumerate(x):\n",
    "    # if value includes [br] then replace it with <br>\n",
    "    if 'average_value_' in value:\n",
    "        x[index] = value.replace('average_value_', '')\n",
    "    elif  'Gamma_' in value:\n",
    "      x[index] = value.replace('Gamma_', '')\n",
    "    elif  'Theta_' in value:\n",
    "      x[index] = value.replace('Theta_', '')\n",
    "    elif  'Low_Beta_' in value:\n",
    "      x[index] = value.replace('Low_Beta_', '')\n",
    "    elif  'Mid_Beta_' in value:\n",
    "      x[index] = value.replace('Mid_Beta_', '')\n",
    "    elif  '25_perc_value_' in value:\n",
    "      x[index] = value.replace('25_perc_value_', '')\n",
    "    elif  '75_perc_' in value:\n",
    "      x[index] = value.replace('75_perc_', '')\n",
    "    elif  'High_Beta_' in value:\n",
    "      x[index] = value.replace('High_Beta_', '')\n",
    "    elif  'std_value_' in value:\n",
    "      x[index] = value.replace('std_value_', '')\n",
    "    elif  'Low_Alpha' in value:\n",
    "      x[index] = value.replace('Low_Alpha', '')\n",
    "    elif  'High_Alpha_' in value:\n",
    "      x[index] = value.replace('High_Alpha_', '')\n",
    "    elif  'median_Value_' in value:\n",
    "      x[index] = value.replace('median_Value_', '')\n",
    "    elif  'average_value_' in value:\n",
    "      x[index] = value.replace('average_value_', '')\n",
    "\n",
    "print('Channels and quantity of channels:')\n",
    "y=set(x)\n",
    "print(y)\n",
    "len(y)\n"
   ]
  },
  {
   "cell_type": "code",
   "execution_count": null,
   "id": "qRS9MMsRKGWb",
   "metadata": {
    "id": "qRS9MMsRKGWb"
   },
   "outputs": [],
   "source": [
    "full = ['webb', 'ellis', '(sportswear)']\n",
    "regex = re.compile(r'\\b\\(.*\\)\\b')\n",
    "filtered = [i for i in full if not regex.search(i)]"
   ]
  },
  {
   "cell_type": "code",
   "execution_count": null,
   "id": "kXou77fEJKo-",
   "metadata": {
    "id": "kXou77fEJKo-"
   },
   "outputs": [],
   "source": [
    "final_df2 = final_df2.drop(final_df2.filter(regex='Channel_').columns, axis=1)"
   ]
  },
  {
   "cell_type": "code",
   "execution_count": null,
   "id": "D6sN7TJw36JE",
   "metadata": {
    "colab": {
     "base_uri": "https://localhost:8080/"
    },
    "executionInfo": {
     "elapsed": 301,
     "status": "ok",
     "timestamp": 1723123153849,
     "user": {
      "displayName": "Guilherme Tavares",
      "userId": "02460284227855401496"
     },
     "user_tz": 180
    },
    "id": "D6sN7TJw36JE",
    "outputId": "e710e3ff-9911-4bd2-bcde-9bb86f25bee7"
   },
   "outputs": [
    {
     "name": "stdout",
     "output_type": "stream",
     "text": [
      "Accuracy with CV AFTER FS on validation set is : 0.16548157724628312\n",
      "              precision    recall  f1-score   support\n",
      "\n",
      "           0       0.15      0.14      0.14       315\n",
      "           1       0.12      0.11      0.11       321\n",
      "           2       0.11      0.14      0.12       310\n",
      "           3       0.21      0.20      0.20       304\n",
      "           4       0.25      0.25      0.25       297\n",
      "\n",
      "    accuracy                           0.17      1547\n",
      "   macro avg       0.17      0.17      0.17      1547\n",
      "weighted avg       0.17      0.17      0.17      1547\n",
      "\n"
     ]
    }
   ],
   "source": [
    "x_valid_normal = valid_final_part.drop(['EEG_condition'], axis=1)\n",
    "CX = valid_final_part.columns[pos]\n",
    "x_valid_normal = valid_final_part[CX]\n",
    "x_valid_normal = scaler.fit_transform(x_valid_normal)\n",
    "y_valid = valid_final_part['EEG_condition'].values\n",
    "Y_val_pred = lr.predict(x_valid_normal)\n",
    "print(\"Accuracy with CV AFTER FS on validation set is : {}\".format(lr.score(x_valid_normal, y_valid)))\n",
    "print(classification_report(y_valid, Y_val_pred))"
   ]
  },
  {
   "cell_type": "code",
   "execution_count": null,
   "id": "c_7EzqXg8Q5w",
   "metadata": {
    "id": "c_7EzqXg8Q5w"
   },
   "outputs": [],
   "source": [
    "from mlxtend.feature_selection import SequentialFeatureSelector as SFS\n",
    "from sklearn.linear_model import LogisticRegression\n",
    "\n",
    "model = LogisticRegression(C=1.e-02,penalty=\"l2\")\n",
    "\n",
    "sfs1 = SFS(model,\n",
    "           k_features=821,\n",
    "           forward=True,\n",
    "           floating=False,\n",
    "           verbose=2,\n",
    "           scoring='accuracy',\n",
    "           cv=5)\n",
    "\n",
    "sfs1 = sfs1.fit(X_train, y_train)"
   ]
  }
 ],
 "metadata": {
  "colab": {
   "provenance": []
  },
  "kernelspec": {
   "display_name": "Python 3 (ipykernel)",
   "language": "python",
   "name": "python3"
  },
  "language_info": {
   "codemirror_mode": {
    "name": "ipython",
    "version": 3
   },
   "file_extension": ".py",
   "mimetype": "text/x-python",
   "name": "python",
   "nbconvert_exporter": "python",
   "pygments_lexer": "ipython3",
   "version": "3.11.7"
  }
 },
 "nbformat": 4,
 "nbformat_minor": 5
}
